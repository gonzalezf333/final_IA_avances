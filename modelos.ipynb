{
  "cells": [
    {
      "cell_type": "markdown",
      "metadata": {
        "id": "view-in-github",
        "colab_type": "text"
      },
      "source": [
        "<a href=\"https://colab.research.google.com/github/gonzalezf333/final_IA_avances/blob/main/modelos.ipynb\" target=\"_parent\"><img src=\"https://colab.research.google.com/assets/colab-badge.svg\" alt=\"Open In Colab\"/></a>"
      ]
    },
    {
      "cell_type": "code",
      "execution_count": 1,
      "metadata": {
        "id": "HL5mpfMaTOZi"
      },
      "outputs": [],
      "source": [
        "import numpy as np\n",
        "import pandas as pd"
      ]
    },
    {
      "cell_type": "code",
      "execution_count": 2,
      "metadata": {
        "colab": {
          "base_uri": "https://localhost:8080/"
        },
        "id": "h05bGdCyTheN",
        "outputId": "55c719a8-5b7e-4a47-f6a6-cac34985bcf9"
      },
      "outputs": [
        {
          "output_type": "stream",
          "name": "stdout",
          "text": [
            "Drive already mounted at /content/drive; to attempt to forcibly remount, call drive.mount(\"/content/drive\", force_remount=True).\n"
          ]
        }
      ],
      "source": [
        "from google.colab import drive\n",
        "drive.mount('/content/drive')"
      ]
    },
    {
      "cell_type": "code",
      "execution_count": 3,
      "metadata": {
        "colab": {
          "base_uri": "https://localhost:8080/",
          "height": 206
        },
        "id": "fxv-e6eFTOZs",
        "outputId": "38d0473c-8b6a-404f-cdb3-dbb305ad48b6"
      },
      "outputs": [
        {
          "output_type": "execute_result",
          "data": {
            "text/plain": [
              "  id_anony Cod.Car.Sec  tardoCB  PasoCB  recursadas_s1  prom_al1  prom_c1  \\\n",
              "0  es_1815  MCT-PLS13         5       1              2       5.0      4.0   \n",
              "1  es_1860  MCT-PLS13         5       1              1       2.5      2.0   \n",
              "2  es_1948  MCT-PLS13         3       1              3       5.0      3.0   \n",
              "3  es_1973  MCT-PLS13         5       1              0       3.0      3.0   \n",
              "4  es_2008  MCT-PLS13         5       1              4       5.0      2.5   \n",
              "\n",
              "   prom_dt  prom_f1  prom_ga  prom_gd  prom_1er_S  \n",
              "0      3.0      4.0      3.0      3.0    3.666667  \n",
              "1      3.0      4.0      3.0      5.0    3.142857  \n",
              "2      4.0      3.0      3.0      5.0    3.833333  \n",
              "3      3.0      3.0      5.0      5.0    3.666667  \n",
              "4      5.0      2.5      4.0      5.0    3.625000  "
            ],
            "text/html": [
              "\n",
              "  <div id=\"df-221a3e21-b3ce-4f6f-a0b9-819bbc09bc87\">\n",
              "    <div class=\"colab-df-container\">\n",
              "      <div>\n",
              "<style scoped>\n",
              "    .dataframe tbody tr th:only-of-type {\n",
              "        vertical-align: middle;\n",
              "    }\n",
              "\n",
              "    .dataframe tbody tr th {\n",
              "        vertical-align: top;\n",
              "    }\n",
              "\n",
              "    .dataframe thead th {\n",
              "        text-align: right;\n",
              "    }\n",
              "</style>\n",
              "<table border=\"1\" class=\"dataframe\">\n",
              "  <thead>\n",
              "    <tr style=\"text-align: right;\">\n",
              "      <th></th>\n",
              "      <th>id_anony</th>\n",
              "      <th>Cod.Car.Sec</th>\n",
              "      <th>tardoCB</th>\n",
              "      <th>PasoCB</th>\n",
              "      <th>recursadas_s1</th>\n",
              "      <th>prom_al1</th>\n",
              "      <th>prom_c1</th>\n",
              "      <th>prom_dt</th>\n",
              "      <th>prom_f1</th>\n",
              "      <th>prom_ga</th>\n",
              "      <th>prom_gd</th>\n",
              "      <th>prom_1er_S</th>\n",
              "    </tr>\n",
              "  </thead>\n",
              "  <tbody>\n",
              "    <tr>\n",
              "      <th>0</th>\n",
              "      <td>es_1815</td>\n",
              "      <td>MCT-PLS13</td>\n",
              "      <td>5</td>\n",
              "      <td>1</td>\n",
              "      <td>2</td>\n",
              "      <td>5.0</td>\n",
              "      <td>4.0</td>\n",
              "      <td>3.0</td>\n",
              "      <td>4.0</td>\n",
              "      <td>3.0</td>\n",
              "      <td>3.0</td>\n",
              "      <td>3.666667</td>\n",
              "    </tr>\n",
              "    <tr>\n",
              "      <th>1</th>\n",
              "      <td>es_1860</td>\n",
              "      <td>MCT-PLS13</td>\n",
              "      <td>5</td>\n",
              "      <td>1</td>\n",
              "      <td>1</td>\n",
              "      <td>2.5</td>\n",
              "      <td>2.0</td>\n",
              "      <td>3.0</td>\n",
              "      <td>4.0</td>\n",
              "      <td>3.0</td>\n",
              "      <td>5.0</td>\n",
              "      <td>3.142857</td>\n",
              "    </tr>\n",
              "    <tr>\n",
              "      <th>2</th>\n",
              "      <td>es_1948</td>\n",
              "      <td>MCT-PLS13</td>\n",
              "      <td>3</td>\n",
              "      <td>1</td>\n",
              "      <td>3</td>\n",
              "      <td>5.0</td>\n",
              "      <td>3.0</td>\n",
              "      <td>4.0</td>\n",
              "      <td>3.0</td>\n",
              "      <td>3.0</td>\n",
              "      <td>5.0</td>\n",
              "      <td>3.833333</td>\n",
              "    </tr>\n",
              "    <tr>\n",
              "      <th>3</th>\n",
              "      <td>es_1973</td>\n",
              "      <td>MCT-PLS13</td>\n",
              "      <td>5</td>\n",
              "      <td>1</td>\n",
              "      <td>0</td>\n",
              "      <td>3.0</td>\n",
              "      <td>3.0</td>\n",
              "      <td>3.0</td>\n",
              "      <td>3.0</td>\n",
              "      <td>5.0</td>\n",
              "      <td>5.0</td>\n",
              "      <td>3.666667</td>\n",
              "    </tr>\n",
              "    <tr>\n",
              "      <th>4</th>\n",
              "      <td>es_2008</td>\n",
              "      <td>MCT-PLS13</td>\n",
              "      <td>5</td>\n",
              "      <td>1</td>\n",
              "      <td>4</td>\n",
              "      <td>5.0</td>\n",
              "      <td>2.5</td>\n",
              "      <td>5.0</td>\n",
              "      <td>2.5</td>\n",
              "      <td>4.0</td>\n",
              "      <td>5.0</td>\n",
              "      <td>3.625000</td>\n",
              "    </tr>\n",
              "  </tbody>\n",
              "</table>\n",
              "</div>\n",
              "      <button class=\"colab-df-convert\" onclick=\"convertToInteractive('df-221a3e21-b3ce-4f6f-a0b9-819bbc09bc87')\"\n",
              "              title=\"Convert this dataframe to an interactive table.\"\n",
              "              style=\"display:none;\">\n",
              "        \n",
              "  <svg xmlns=\"http://www.w3.org/2000/svg\" height=\"24px\"viewBox=\"0 0 24 24\"\n",
              "       width=\"24px\">\n",
              "    <path d=\"M0 0h24v24H0V0z\" fill=\"none\"/>\n",
              "    <path d=\"M18.56 5.44l.94 2.06.94-2.06 2.06-.94-2.06-.94-.94-2.06-.94 2.06-2.06.94zm-11 1L8.5 8.5l.94-2.06 2.06-.94-2.06-.94L8.5 2.5l-.94 2.06-2.06.94zm10 10l.94 2.06.94-2.06 2.06-.94-2.06-.94-.94-2.06-.94 2.06-2.06.94z\"/><path d=\"M17.41 7.96l-1.37-1.37c-.4-.4-.92-.59-1.43-.59-.52 0-1.04.2-1.43.59L10.3 9.45l-7.72 7.72c-.78.78-.78 2.05 0 2.83L4 21.41c.39.39.9.59 1.41.59.51 0 1.02-.2 1.41-.59l7.78-7.78 2.81-2.81c.8-.78.8-2.07 0-2.86zM5.41 20L4 18.59l7.72-7.72 1.47 1.35L5.41 20z\"/>\n",
              "  </svg>\n",
              "      </button>\n",
              "      \n",
              "  <style>\n",
              "    .colab-df-container {\n",
              "      display:flex;\n",
              "      flex-wrap:wrap;\n",
              "      gap: 12px;\n",
              "    }\n",
              "\n",
              "    .colab-df-convert {\n",
              "      background-color: #E8F0FE;\n",
              "      border: none;\n",
              "      border-radius: 50%;\n",
              "      cursor: pointer;\n",
              "      display: none;\n",
              "      fill: #1967D2;\n",
              "      height: 32px;\n",
              "      padding: 0 0 0 0;\n",
              "      width: 32px;\n",
              "    }\n",
              "\n",
              "    .colab-df-convert:hover {\n",
              "      background-color: #E2EBFA;\n",
              "      box-shadow: 0px 1px 2px rgba(60, 64, 67, 0.3), 0px 1px 3px 1px rgba(60, 64, 67, 0.15);\n",
              "      fill: #174EA6;\n",
              "    }\n",
              "\n",
              "    [theme=dark] .colab-df-convert {\n",
              "      background-color: #3B4455;\n",
              "      fill: #D2E3FC;\n",
              "    }\n",
              "\n",
              "    [theme=dark] .colab-df-convert:hover {\n",
              "      background-color: #434B5C;\n",
              "      box-shadow: 0px 1px 3px 1px rgba(0, 0, 0, 0.15);\n",
              "      filter: drop-shadow(0px 1px 2px rgba(0, 0, 0, 0.3));\n",
              "      fill: #FFFFFF;\n",
              "    }\n",
              "  </style>\n",
              "\n",
              "      <script>\n",
              "        const buttonEl =\n",
              "          document.querySelector('#df-221a3e21-b3ce-4f6f-a0b9-819bbc09bc87 button.colab-df-convert');\n",
              "        buttonEl.style.display =\n",
              "          google.colab.kernel.accessAllowed ? 'block' : 'none';\n",
              "\n",
              "        async function convertToInteractive(key) {\n",
              "          const element = document.querySelector('#df-221a3e21-b3ce-4f6f-a0b9-819bbc09bc87');\n",
              "          const dataTable =\n",
              "            await google.colab.kernel.invokeFunction('convertToInteractive',\n",
              "                                                     [key], {});\n",
              "          if (!dataTable) return;\n",
              "\n",
              "          const docLinkHtml = 'Like what you see? Visit the ' +\n",
              "            '<a target=\"_blank\" href=https://colab.research.google.com/notebooks/data_table.ipynb>data table notebook</a>'\n",
              "            + ' to learn more about interactive tables.';\n",
              "          element.innerHTML = '';\n",
              "          dataTable['output_type'] = 'display_data';\n",
              "          await google.colab.output.renderOutput(dataTable, element);\n",
              "          const docLink = document.createElement('div');\n",
              "          docLink.innerHTML = docLinkHtml;\n",
              "          element.appendChild(docLink);\n",
              "        }\n",
              "      </script>\n",
              "    </div>\n",
              "  </div>\n",
              "  "
            ]
          },
          "metadata": {},
          "execution_count": 3
        }
      ],
      "source": [
        "link = 'drive/My Drive/IA_2022/datos_finales.csv'\n",
        "datos = pd.read_csv(link)\n",
        "datos.head()"
      ]
    },
    {
      "cell_type": "code",
      "execution_count": 4,
      "metadata": {
        "colab": {
          "base_uri": "https://localhost:8080/"
        },
        "id": "-ex2lrtaTOZv",
        "outputId": "71345762-2aa4-456d-80db-cc21db7535fe"
      },
      "outputs": [
        {
          "output_type": "execute_result",
          "data": {
            "text/plain": [
              "array([2, 3, 4, 5])"
            ]
          },
          "metadata": {},
          "execution_count": 4
        }
      ],
      "source": [
        "np.unique(datos['tardoCB']) # 4 clases: tardo 2, 3, 4, 5 o mas años"
      ]
    },
    {
      "cell_type": "code",
      "execution_count": 5,
      "metadata": {
        "id": "LRqvbtQd97Nv"
      },
      "outputs": [],
      "source": [
        "def clasear(x):\n",
        "    if x<5:\n",
        "        return int(x-2)\n",
        "    else:\n",
        "        return 3"
      ]
    },
    {
      "cell_type": "code",
      "execution_count": 6,
      "metadata": {
        "id": "ssvHvjiX98DI"
      },
      "outputs": [],
      "source": [
        "datos['tardoCB'] = datos['tardoCB'].apply(clasear)"
      ]
    },
    {
      "cell_type": "code",
      "execution_count": 7,
      "metadata": {
        "colab": {
          "base_uri": "https://localhost:8080/"
        },
        "id": "btk8jUmX-CxE",
        "outputId": "1073a6d6-9f31-4b5c-d355-7b10d1ab84f4"
      },
      "outputs": [
        {
          "output_type": "execute_result",
          "data": {
            "text/plain": [
              "array([0, 1, 2, 3])"
            ]
          },
          "metadata": {},
          "execution_count": 7
        }
      ],
      "source": [
        "np.unique(datos['tardoCB']) # 4 clases: 0 para 2 años, 1 para 3 años, 2 para 4 años, 3 para 5 años o mas"
      ]
    },
    {
      "cell_type": "code",
      "execution_count": 8,
      "metadata": {
        "colab": {
          "base_uri": "https://localhost:8080/"
        },
        "id": "8dywQ2voTOZy",
        "outputId": "8483d489-89b5-4fbe-80fb-8cbe3a7ef631"
      },
      "outputs": [
        {
          "output_type": "execute_result",
          "data": {
            "text/plain": [
              "((87, 8), (87, 1))"
            ]
          },
          "metadata": {},
          "execution_count": 8
        }
      ],
      "source": [
        "X = datos.drop(columns=['tardoCB','id_anony','PasoCB','Cod.Car.Sec'])\n",
        "y = pd.DataFrame(datos['tardoCB'].values.astype(np.int64), columns=['tardoCB'])\n",
        "X.shape, y.shape"
      ]
    },
    {
      "cell_type": "code",
      "execution_count": 9,
      "metadata": {
        "id": "Brdw9hsfi7TQ"
      },
      "outputs": [],
      "source": [
        "X = X.values.astype(float)\n",
        "y = y.values"
      ]
    },
    {
      "cell_type": "code",
      "execution_count": 10,
      "metadata": {
        "id": "Da8jtjR6TOZ0"
      },
      "outputs": [],
      "source": [
        "from sklearn.model_selection import train_test_split"
      ]
    },
    {
      "cell_type": "code",
      "execution_count": 11,
      "metadata": {
        "id": "BNL-h923XU5D"
      },
      "outputs": [],
      "source": [
        "from keras.models import Sequential\n",
        "from keras.layers import Dense\n",
        "from keras.utils import np_utils\n",
        "from sklearn.model_selection import cross_val_score\n",
        "from tensorflow.keras.utils import to_categorical\n",
        "import matplotlib.pyplot as plt\n",
        "import seaborn as sn"
      ]
    },
    {
      "cell_type": "code",
      "execution_count": 12,
      "metadata": {
        "id": "xxX25Stq5nKL"
      },
      "outputs": [],
      "source": [
        "y_cat = to_categorical(y)"
      ]
    },
    {
      "cell_type": "code",
      "execution_count": 13,
      "metadata": {
        "id": "K6e62D53Bn5B"
      },
      "outputs": [],
      "source": [
        "X_train, X_test, y_train, y_test = train_test_split(X, y_cat, test_size=0.2, random_state=42)"
      ]
    },
    {
      "cell_type": "code",
      "execution_count": 29,
      "metadata": {
        "colab": {
          "base_uri": "https://localhost:8080/"
        },
        "id": "hp3_j-Ph54SS",
        "outputId": "ae0691d5-0f9e-4023-aa3b-2d67efd10487"
      },
      "outputs": [
        {
          "output_type": "stream",
          "name": "stdout",
          "text": [
            "Model: \"sequential_1\"\n",
            "_________________________________________________________________\n",
            " Layer (type)                Output Shape              Param #   \n",
            "=================================================================\n",
            " Capa_de_Entrada (Dense)     (None, 8)                 72        \n",
            "                                                                 \n",
            " Capa_Oculta (Dense)         (None, 6)                 54        \n",
            "                                                                 \n",
            " Capa_de_Salida (Dense)      (None, 4)                 28        \n",
            "                                                                 \n",
            "=================================================================\n",
            "Total params: 154\n",
            "Trainable params: 154\n",
            "Non-trainable params: 0\n",
            "_________________________________________________________________\n"
          ]
        }
      ],
      "source": [
        "model = Sequential()\n",
        "model.add(Dense(8, activation='tanh' , input_shape=( X.shape[1], ), name = \"Capa_de_Entrada\"))\n",
        "model.add(Dense(6, activation='tanh'   , name = \"Capa_Oculta\"))\n",
        "model.add(Dense(4, activation='softmax', name = \"Capa_de_Salida\"))\n",
        "model.compile(optimizer = 'adam',\n",
        "             loss = 'categorical_crossentropy',\n",
        "             metrics = ['accuracy'])\n",
        "model.summary()"
      ]
    },
    {
      "cell_type": "code",
      "execution_count": 30,
      "metadata": {
        "colab": {
          "base_uri": "https://localhost:8080/",
          "height": 1000
        },
        "id": "cD4-hjRtBauU",
        "outputId": "c03f0ed7-5d4e-4a45-9391-8b9ca2afccde"
      },
      "outputs": [
        {
          "output_type": "stream",
          "name": "stdout",
          "text": [
            "Epoch 1/150\n",
            "2/2 [==============================] - 0s 133ms/step - loss: 1.5304 - accuracy: 0.4516 - val_loss: 2.1436 - val_accuracy: 0.2857\n",
            "Epoch 2/150\n",
            "2/2 [==============================] - 0s 26ms/step - loss: 1.5166 - accuracy: 0.4516 - val_loss: 2.1129 - val_accuracy: 0.2857\n",
            "Epoch 3/150\n",
            "2/2 [==============================] - 0s 22ms/step - loss: 1.5055 - accuracy: 0.4516 - val_loss: 2.0817 - val_accuracy: 0.2857\n",
            "Epoch 4/150\n",
            "2/2 [==============================] - 0s 22ms/step - loss: 1.4966 - accuracy: 0.4516 - val_loss: 2.0506 - val_accuracy: 0.2857\n",
            "Epoch 5/150\n",
            "2/2 [==============================] - 0s 25ms/step - loss: 1.4839 - accuracy: 0.4516 - val_loss: 2.0204 - val_accuracy: 0.2857\n",
            "Epoch 6/150\n",
            "2/2 [==============================] - 0s 23ms/step - loss: 1.4711 - accuracy: 0.4516 - val_loss: 1.9909 - val_accuracy: 0.2857\n",
            "Epoch 7/150\n",
            "2/2 [==============================] - 0s 23ms/step - loss: 1.4620 - accuracy: 0.4516 - val_loss: 1.9604 - val_accuracy: 0.2857\n",
            "Epoch 8/150\n",
            "2/2 [==============================] - 0s 30ms/step - loss: 1.4492 - accuracy: 0.4516 - val_loss: 1.9311 - val_accuracy: 0.2857\n",
            "Epoch 9/150\n",
            "2/2 [==============================] - 0s 22ms/step - loss: 1.4390 - accuracy: 0.4516 - val_loss: 1.9012 - val_accuracy: 0.2857\n",
            "Epoch 10/150\n",
            "2/2 [==============================] - 0s 22ms/step - loss: 1.4285 - accuracy: 0.4516 - val_loss: 1.8710 - val_accuracy: 0.2857\n",
            "Epoch 11/150\n",
            "2/2 [==============================] - 0s 21ms/step - loss: 1.4160 - accuracy: 0.4516 - val_loss: 1.8417 - val_accuracy: 0.2857\n",
            "Epoch 12/150\n",
            "2/2 [==============================] - 0s 22ms/step - loss: 1.4058 - accuracy: 0.4516 - val_loss: 1.8125 - val_accuracy: 0.2857\n",
            "Epoch 13/150\n",
            "2/2 [==============================] - 0s 22ms/step - loss: 1.3956 - accuracy: 0.4516 - val_loss: 1.7829 - val_accuracy: 0.2857\n",
            "Epoch 14/150\n",
            "2/2 [==============================] - 0s 23ms/step - loss: 1.3852 - accuracy: 0.4516 - val_loss: 1.7535 - val_accuracy: 0.2857\n",
            "Epoch 15/150\n",
            "2/2 [==============================] - 0s 25ms/step - loss: 1.3735 - accuracy: 0.4516 - val_loss: 1.7248 - val_accuracy: 0.2857\n",
            "Epoch 16/150\n",
            "2/2 [==============================] - 0s 24ms/step - loss: 1.3646 - accuracy: 0.4516 - val_loss: 1.6962 - val_accuracy: 0.2857\n",
            "Epoch 17/150\n",
            "2/2 [==============================] - 0s 22ms/step - loss: 1.3519 - accuracy: 0.4516 - val_loss: 1.6694 - val_accuracy: 0.2857\n",
            "Epoch 18/150\n",
            "2/2 [==============================] - 0s 26ms/step - loss: 1.3425 - accuracy: 0.4516 - val_loss: 1.6430 - val_accuracy: 0.2857\n",
            "Epoch 19/150\n",
            "2/2 [==============================] - 0s 26ms/step - loss: 1.3305 - accuracy: 0.4516 - val_loss: 1.6184 - val_accuracy: 0.2857\n",
            "Epoch 20/150\n",
            "2/2 [==============================] - 0s 24ms/step - loss: 1.3228 - accuracy: 0.4516 - val_loss: 1.5938 - val_accuracy: 0.2857\n",
            "Epoch 21/150\n",
            "2/2 [==============================] - 0s 21ms/step - loss: 1.3135 - accuracy: 0.4516 - val_loss: 1.5705 - val_accuracy: 0.2857\n",
            "Epoch 22/150\n",
            "2/2 [==============================] - 0s 22ms/step - loss: 1.3039 - accuracy: 0.4516 - val_loss: 1.5486 - val_accuracy: 0.2857\n",
            "Epoch 23/150\n",
            "2/2 [==============================] - 0s 29ms/step - loss: 1.2962 - accuracy: 0.4516 - val_loss: 1.5276 - val_accuracy: 0.2857\n",
            "Epoch 24/150\n",
            "2/2 [==============================] - 0s 28ms/step - loss: 1.2878 - accuracy: 0.4516 - val_loss: 1.5079 - val_accuracy: 0.2857\n",
            "Epoch 25/150\n",
            "2/2 [==============================] - 0s 23ms/step - loss: 1.2803 - accuracy: 0.4516 - val_loss: 1.4898 - val_accuracy: 0.2857\n",
            "Epoch 26/150\n",
            "2/2 [==============================] - 0s 22ms/step - loss: 1.2740 - accuracy: 0.4516 - val_loss: 1.4725 - val_accuracy: 0.2857\n",
            "Epoch 27/150\n",
            "2/2 [==============================] - 0s 26ms/step - loss: 1.2673 - accuracy: 0.4516 - val_loss: 1.4562 - val_accuracy: 0.2857\n",
            "Epoch 28/150\n",
            "2/2 [==============================] - 0s 25ms/step - loss: 1.2613 - accuracy: 0.4516 - val_loss: 1.4412 - val_accuracy: 0.2857\n",
            "Epoch 29/150\n",
            "2/2 [==============================] - 0s 22ms/step - loss: 1.2560 - accuracy: 0.4516 - val_loss: 1.4271 - val_accuracy: 0.2857\n",
            "Epoch 30/150\n",
            "2/2 [==============================] - 0s 23ms/step - loss: 1.2510 - accuracy: 0.4516 - val_loss: 1.4141 - val_accuracy: 0.2857\n",
            "Epoch 31/150\n",
            "2/2 [==============================] - 0s 24ms/step - loss: 1.2462 - accuracy: 0.4516 - val_loss: 1.4023 - val_accuracy: 0.2857\n",
            "Epoch 32/150\n",
            "2/2 [==============================] - 0s 24ms/step - loss: 1.2419 - accuracy: 0.4516 - val_loss: 1.3912 - val_accuracy: 0.2857\n",
            "Epoch 33/150\n",
            "2/2 [==============================] - 0s 23ms/step - loss: 1.2370 - accuracy: 0.4516 - val_loss: 1.3817 - val_accuracy: 0.2857\n",
            "Epoch 34/150\n",
            "2/2 [==============================] - 0s 21ms/step - loss: 1.2339 - accuracy: 0.4516 - val_loss: 1.3723 - val_accuracy: 0.2857\n",
            "Epoch 35/150\n",
            "2/2 [==============================] - 0s 21ms/step - loss: 1.2300 - accuracy: 0.4516 - val_loss: 1.3641 - val_accuracy: 0.2857\n",
            "Epoch 36/150\n",
            "2/2 [==============================] - 0s 22ms/step - loss: 1.2263 - accuracy: 0.4516 - val_loss: 1.3567 - val_accuracy: 0.2857\n",
            "Epoch 37/150\n",
            "2/2 [==============================] - 0s 22ms/step - loss: 1.2236 - accuracy: 0.4516 - val_loss: 1.3496 - val_accuracy: 0.2857\n",
            "Epoch 38/150\n",
            "2/2 [==============================] - 0s 27ms/step - loss: 1.2209 - accuracy: 0.4516 - val_loss: 1.3431 - val_accuracy: 0.2857\n",
            "Epoch 39/150\n",
            "2/2 [==============================] - 0s 21ms/step - loss: 1.2182 - accuracy: 0.4516 - val_loss: 1.3370 - val_accuracy: 0.2857\n",
            "Epoch 40/150\n",
            "2/2 [==============================] - 0s 29ms/step - loss: 1.2156 - accuracy: 0.4516 - val_loss: 1.3314 - val_accuracy: 0.2857\n",
            "Epoch 41/150\n",
            "2/2 [==============================] - 0s 25ms/step - loss: 1.2129 - accuracy: 0.4516 - val_loss: 1.3265 - val_accuracy: 0.2857\n",
            "Epoch 42/150\n",
            "2/2 [==============================] - 0s 22ms/step - loss: 1.2105 - accuracy: 0.4516 - val_loss: 1.3221 - val_accuracy: 0.2857\n",
            "Epoch 43/150\n",
            "2/2 [==============================] - 0s 22ms/step - loss: 1.2089 - accuracy: 0.4516 - val_loss: 1.3175 - val_accuracy: 0.2857\n",
            "Epoch 44/150\n",
            "2/2 [==============================] - 0s 25ms/step - loss: 1.2059 - accuracy: 0.4516 - val_loss: 1.3138 - val_accuracy: 0.2857\n",
            "Epoch 45/150\n",
            "2/2 [==============================] - 0s 22ms/step - loss: 1.2039 - accuracy: 0.4516 - val_loss: 1.3104 - val_accuracy: 0.2857\n",
            "Epoch 46/150\n",
            "2/2 [==============================] - 0s 23ms/step - loss: 1.2018 - accuracy: 0.4516 - val_loss: 1.3069 - val_accuracy: 0.2857\n",
            "Epoch 47/150\n",
            "2/2 [==============================] - 0s 20ms/step - loss: 1.1999 - accuracy: 0.4516 - val_loss: 1.3039 - val_accuracy: 0.2857\n",
            "Epoch 48/150\n",
            "2/2 [==============================] - 0s 23ms/step - loss: 1.1982 - accuracy: 0.4516 - val_loss: 1.3009 - val_accuracy: 0.2857\n",
            "Epoch 49/150\n",
            "2/2 [==============================] - 0s 25ms/step - loss: 1.1958 - accuracy: 0.4516 - val_loss: 1.2988 - val_accuracy: 0.2857\n",
            "Epoch 50/150\n",
            "2/2 [==============================] - 0s 23ms/step - loss: 1.1940 - accuracy: 0.4516 - val_loss: 1.2965 - val_accuracy: 0.2857\n",
            "Epoch 51/150\n",
            "2/2 [==============================] - 0s 28ms/step - loss: 1.1925 - accuracy: 0.4516 - val_loss: 1.2940 - val_accuracy: 0.2857\n",
            "Epoch 52/150\n",
            "2/2 [==============================] - 0s 24ms/step - loss: 1.1908 - accuracy: 0.4516 - val_loss: 1.2915 - val_accuracy: 0.2857\n",
            "Epoch 53/150\n",
            "2/2 [==============================] - 0s 22ms/step - loss: 1.1886 - accuracy: 0.4516 - val_loss: 1.2899 - val_accuracy: 0.2857\n",
            "Epoch 54/150\n",
            "2/2 [==============================] - 0s 22ms/step - loss: 1.1867 - accuracy: 0.4516 - val_loss: 1.2888 - val_accuracy: 0.2857\n",
            "Epoch 55/150\n",
            "2/2 [==============================] - 0s 24ms/step - loss: 1.1850 - accuracy: 0.4516 - val_loss: 1.2877 - val_accuracy: 0.2857\n",
            "Epoch 56/150\n",
            "2/2 [==============================] - 0s 28ms/step - loss: 1.1831 - accuracy: 0.4516 - val_loss: 1.2869 - val_accuracy: 0.2857\n",
            "Epoch 57/150\n",
            "2/2 [==============================] - 0s 20ms/step - loss: 1.1816 - accuracy: 0.4516 - val_loss: 1.2865 - val_accuracy: 0.2857\n",
            "Epoch 58/150\n",
            "2/2 [==============================] - 0s 23ms/step - loss: 1.1796 - accuracy: 0.4516 - val_loss: 1.2858 - val_accuracy: 0.2857\n",
            "Epoch 59/150\n",
            "2/2 [==============================] - 0s 22ms/step - loss: 1.1778 - accuracy: 0.4677 - val_loss: 1.2851 - val_accuracy: 0.2857\n",
            "Epoch 60/150\n",
            "2/2 [==============================] - 0s 24ms/step - loss: 1.1761 - accuracy: 0.4677 - val_loss: 1.2847 - val_accuracy: 0.2857\n",
            "Epoch 61/150\n",
            "2/2 [==============================] - 0s 22ms/step - loss: 1.1746 - accuracy: 0.4677 - val_loss: 1.2842 - val_accuracy: 0.2857\n",
            "Epoch 62/150\n",
            "2/2 [==============================] - 0s 23ms/step - loss: 1.1725 - accuracy: 0.4677 - val_loss: 1.2842 - val_accuracy: 0.2857\n",
            "Epoch 63/150\n",
            "2/2 [==============================] - 0s 24ms/step - loss: 1.1710 - accuracy: 0.4677 - val_loss: 1.2835 - val_accuracy: 0.2857\n",
            "Epoch 64/150\n",
            "2/2 [==============================] - 0s 23ms/step - loss: 1.1688 - accuracy: 0.4677 - val_loss: 1.2829 - val_accuracy: 0.2857\n",
            "Epoch 65/150\n",
            "2/2 [==============================] - 0s 24ms/step - loss: 1.1669 - accuracy: 0.4839 - val_loss: 1.2832 - val_accuracy: 0.2857\n",
            "Epoch 66/150\n",
            "2/2 [==============================] - 0s 23ms/step - loss: 1.1649 - accuracy: 0.4839 - val_loss: 1.2832 - val_accuracy: 0.2857\n",
            "Epoch 67/150\n",
            "2/2 [==============================] - 0s 22ms/step - loss: 1.1631 - accuracy: 0.5000 - val_loss: 1.2830 - val_accuracy: 0.2857\n",
            "Epoch 68/150\n",
            "2/2 [==============================] - 0s 26ms/step - loss: 1.1611 - accuracy: 0.5161 - val_loss: 1.2831 - val_accuracy: 0.2857\n",
            "Epoch 69/150\n",
            "2/2 [==============================] - 0s 20ms/step - loss: 1.1592 - accuracy: 0.5323 - val_loss: 1.2835 - val_accuracy: 0.2857\n",
            "Epoch 70/150\n",
            "2/2 [==============================] - 0s 20ms/step - loss: 1.1572 - accuracy: 0.5323 - val_loss: 1.2837 - val_accuracy: 0.2857\n",
            "Epoch 71/150\n",
            "2/2 [==============================] - 0s 22ms/step - loss: 1.1554 - accuracy: 0.5323 - val_loss: 1.2841 - val_accuracy: 0.2857\n",
            "Epoch 72/150\n",
            "2/2 [==============================] - 0s 20ms/step - loss: 1.1536 - accuracy: 0.5323 - val_loss: 1.2840 - val_accuracy: 0.2857\n",
            "Epoch 73/150\n",
            "2/2 [==============================] - 0s 20ms/step - loss: 1.1518 - accuracy: 0.5323 - val_loss: 1.2836 - val_accuracy: 0.2857\n",
            "Epoch 74/150\n",
            "2/2 [==============================] - 0s 25ms/step - loss: 1.1495 - accuracy: 0.5645 - val_loss: 1.2838 - val_accuracy: 0.2857\n",
            "Epoch 75/150\n",
            "2/2 [==============================] - 0s 23ms/step - loss: 1.1475 - accuracy: 0.5645 - val_loss: 1.2838 - val_accuracy: 0.2857\n",
            "Epoch 76/150\n",
            "2/2 [==============================] - 0s 31ms/step - loss: 1.1458 - accuracy: 0.5645 - val_loss: 1.2835 - val_accuracy: 0.2857\n",
            "Epoch 77/150\n",
            "2/2 [==============================] - 0s 25ms/step - loss: 1.1437 - accuracy: 0.5645 - val_loss: 1.2835 - val_accuracy: 0.2857\n",
            "Epoch 78/150\n",
            "2/2 [==============================] - 0s 22ms/step - loss: 1.1418 - accuracy: 0.5645 - val_loss: 1.2838 - val_accuracy: 0.2857\n",
            "Epoch 79/150\n",
            "2/2 [==============================] - 0s 23ms/step - loss: 1.1400 - accuracy: 0.5645 - val_loss: 1.2838 - val_accuracy: 0.2857\n",
            "Epoch 80/150\n",
            "2/2 [==============================] - 0s 23ms/step - loss: 1.1377 - accuracy: 0.5645 - val_loss: 1.2842 - val_accuracy: 0.2857\n",
            "Epoch 81/150\n",
            "2/2 [==============================] - 0s 24ms/step - loss: 1.1358 - accuracy: 0.5645 - val_loss: 1.2847 - val_accuracy: 0.2857\n",
            "Epoch 82/150\n",
            "2/2 [==============================] - 0s 22ms/step - loss: 1.1344 - accuracy: 0.5645 - val_loss: 1.2867 - val_accuracy: 0.2857\n",
            "Epoch 83/150\n",
            "2/2 [==============================] - 0s 22ms/step - loss: 1.1325 - accuracy: 0.5645 - val_loss: 1.2874 - val_accuracy: 0.2857\n",
            "Epoch 84/150\n",
            "2/2 [==============================] - 0s 22ms/step - loss: 1.1303 - accuracy: 0.5645 - val_loss: 1.2901 - val_accuracy: 0.2857\n",
            "Epoch 85/150\n",
            "2/2 [==============================] - 0s 22ms/step - loss: 1.1283 - accuracy: 0.5645 - val_loss: 1.2920 - val_accuracy: 0.2857\n",
            "Epoch 86/150\n",
            "2/2 [==============================] - 0s 23ms/step - loss: 1.1265 - accuracy: 0.5645 - val_loss: 1.2941 - val_accuracy: 0.2857\n",
            "Epoch 87/150\n",
            "2/2 [==============================] - 0s 22ms/step - loss: 1.1247 - accuracy: 0.5645 - val_loss: 1.2960 - val_accuracy: 0.2857\n",
            "Epoch 88/150\n",
            "2/2 [==============================] - 0s 21ms/step - loss: 1.1230 - accuracy: 0.5645 - val_loss: 1.2987 - val_accuracy: 0.2857\n",
            "Epoch 89/150\n",
            "2/2 [==============================] - 0s 21ms/step - loss: 1.1215 - accuracy: 0.5645 - val_loss: 1.3022 - val_accuracy: 0.2857\n",
            "Epoch 90/150\n",
            "2/2 [==============================] - 0s 21ms/step - loss: 1.1201 - accuracy: 0.5645 - val_loss: 1.3060 - val_accuracy: 0.2857\n",
            "Epoch 91/150\n",
            "2/2 [==============================] - 0s 23ms/step - loss: 1.1184 - accuracy: 0.5645 - val_loss: 1.3090 - val_accuracy: 0.2857\n",
            "Epoch 92/150\n",
            "2/2 [==============================] - 0s 22ms/step - loss: 1.1170 - accuracy: 0.5484 - val_loss: 1.3117 - val_accuracy: 0.2857\n",
            "Epoch 93/150\n",
            "2/2 [==============================] - 0s 22ms/step - loss: 1.1157 - accuracy: 0.5484 - val_loss: 1.3147 - val_accuracy: 0.2857\n",
            "Epoch 94/150\n",
            "2/2 [==============================] - 0s 21ms/step - loss: 1.1141 - accuracy: 0.5484 - val_loss: 1.3159 - val_accuracy: 0.2857\n",
            "Epoch 95/150\n",
            "2/2 [==============================] - 0s 25ms/step - loss: 1.1129 - accuracy: 0.5484 - val_loss: 1.3168 - val_accuracy: 0.2857\n",
            "Epoch 96/150\n",
            "2/2 [==============================] - 0s 26ms/step - loss: 1.1120 - accuracy: 0.5484 - val_loss: 1.3192 - val_accuracy: 0.2857\n",
            "Epoch 97/150\n",
            "2/2 [==============================] - 0s 24ms/step - loss: 1.1102 - accuracy: 0.5484 - val_loss: 1.3191 - val_accuracy: 0.2857\n",
            "Epoch 98/150\n",
            "2/2 [==============================] - 0s 28ms/step - loss: 1.1095 - accuracy: 0.5484 - val_loss: 1.3197 - val_accuracy: 0.2857\n",
            "Epoch 99/150\n",
            "2/2 [==============================] - 0s 20ms/step - loss: 1.1083 - accuracy: 0.5484 - val_loss: 1.3179 - val_accuracy: 0.2857\n",
            "Epoch 100/150\n",
            "2/2 [==============================] - 0s 20ms/step - loss: 1.1067 - accuracy: 0.5484 - val_loss: 1.3190 - val_accuracy: 0.2857\n",
            "Epoch 101/150\n",
            "2/2 [==============================] - 0s 23ms/step - loss: 1.1057 - accuracy: 0.5484 - val_loss: 1.3191 - val_accuracy: 0.2857\n",
            "Epoch 102/150\n",
            "2/2 [==============================] - 0s 23ms/step - loss: 1.1044 - accuracy: 0.5484 - val_loss: 1.3203 - val_accuracy: 0.2857\n",
            "Epoch 103/150\n",
            "2/2 [==============================] - 0s 25ms/step - loss: 1.1035 - accuracy: 0.5484 - val_loss: 1.3199 - val_accuracy: 0.2857\n",
            "Epoch 104/150\n",
            "2/2 [==============================] - 0s 20ms/step - loss: 1.1025 - accuracy: 0.5645 - val_loss: 1.3215 - val_accuracy: 0.2857\n",
            "Epoch 105/150\n",
            "2/2 [==============================] - 0s 23ms/step - loss: 1.1013 - accuracy: 0.5645 - val_loss: 1.3225 - val_accuracy: 0.2857\n",
            "Epoch 106/150\n",
            "2/2 [==============================] - 0s 22ms/step - loss: 1.1001 - accuracy: 0.5645 - val_loss: 1.3225 - val_accuracy: 0.2857\n",
            "Epoch 107/150\n",
            "2/2 [==============================] - 0s 22ms/step - loss: 1.0991 - accuracy: 0.5645 - val_loss: 1.3224 - val_accuracy: 0.2857\n",
            "Epoch 108/150\n",
            "2/2 [==============================] - 0s 21ms/step - loss: 1.0983 - accuracy: 0.5645 - val_loss: 1.3216 - val_accuracy: 0.2857\n",
            "Epoch 109/150\n",
            "2/2 [==============================] - 0s 23ms/step - loss: 1.0974 - accuracy: 0.5645 - val_loss: 1.3210 - val_accuracy: 0.2857\n",
            "Epoch 110/150\n",
            "2/2 [==============================] - 0s 23ms/step - loss: 1.0965 - accuracy: 0.5645 - val_loss: 1.3227 - val_accuracy: 0.2857\n",
            "Epoch 111/150\n",
            "2/2 [==============================] - 0s 27ms/step - loss: 1.0951 - accuracy: 0.5645 - val_loss: 1.3227 - val_accuracy: 0.2857\n",
            "Epoch 112/150\n",
            "2/2 [==============================] - 0s 21ms/step - loss: 1.0941 - accuracy: 0.5645 - val_loss: 1.3222 - val_accuracy: 0.2857\n",
            "Epoch 113/150\n",
            "2/2 [==============================] - 0s 24ms/step - loss: 1.0938 - accuracy: 0.5484 - val_loss: 1.3211 - val_accuracy: 0.2857\n",
            "Epoch 114/150\n",
            "2/2 [==============================] - 0s 23ms/step - loss: 1.0924 - accuracy: 0.5484 - val_loss: 1.3212 - val_accuracy: 0.2857\n",
            "Epoch 115/150\n",
            "2/2 [==============================] - 0s 24ms/step - loss: 1.0923 - accuracy: 0.5484 - val_loss: 1.3208 - val_accuracy: 0.2857\n",
            "Epoch 116/150\n",
            "2/2 [==============================] - 0s 23ms/step - loss: 1.0905 - accuracy: 0.5484 - val_loss: 1.3209 - val_accuracy: 0.2857\n",
            "Epoch 117/150\n",
            "2/2 [==============================] - 0s 21ms/step - loss: 1.0898 - accuracy: 0.5484 - val_loss: 1.3226 - val_accuracy: 0.2857\n",
            "Epoch 118/150\n",
            "2/2 [==============================] - 0s 26ms/step - loss: 1.0892 - accuracy: 0.5484 - val_loss: 1.3214 - val_accuracy: 0.2857\n",
            "Epoch 119/150\n",
            "2/2 [==============================] - 0s 44ms/step - loss: 1.0878 - accuracy: 0.5484 - val_loss: 1.3216 - val_accuracy: 0.2857\n",
            "Epoch 120/150\n",
            "2/2 [==============================] - 0s 21ms/step - loss: 1.0871 - accuracy: 0.5484 - val_loss: 1.3215 - val_accuracy: 0.2857\n",
            "Epoch 121/150\n",
            "2/2 [==============================] - 0s 24ms/step - loss: 1.0863 - accuracy: 0.5484 - val_loss: 1.3229 - val_accuracy: 0.2857\n",
            "Epoch 122/150\n",
            "2/2 [==============================] - 0s 22ms/step - loss: 1.0855 - accuracy: 0.5484 - val_loss: 1.3242 - val_accuracy: 0.2857\n",
            "Epoch 123/150\n",
            "2/2 [==============================] - 0s 23ms/step - loss: 1.0845 - accuracy: 0.5484 - val_loss: 1.3253 - val_accuracy: 0.2857\n",
            "Epoch 124/150\n",
            "2/2 [==============================] - 0s 23ms/step - loss: 1.0837 - accuracy: 0.5484 - val_loss: 1.3263 - val_accuracy: 0.2857\n",
            "Epoch 125/150\n",
            "2/2 [==============================] - 0s 24ms/step - loss: 1.0835 - accuracy: 0.5484 - val_loss: 1.3279 - val_accuracy: 0.2857\n",
            "Epoch 126/150\n",
            "2/2 [==============================] - 0s 23ms/step - loss: 1.0819 - accuracy: 0.5484 - val_loss: 1.3280 - val_accuracy: 0.2857\n",
            "Epoch 127/150\n",
            "2/2 [==============================] - 0s 23ms/step - loss: 1.0813 - accuracy: 0.5484 - val_loss: 1.3272 - val_accuracy: 0.2857\n",
            "Epoch 128/150\n",
            "2/2 [==============================] - 0s 25ms/step - loss: 1.0806 - accuracy: 0.5484 - val_loss: 1.3271 - val_accuracy: 0.2857\n",
            "Epoch 129/150\n",
            "2/2 [==============================] - 0s 22ms/step - loss: 1.0797 - accuracy: 0.5484 - val_loss: 1.3265 - val_accuracy: 0.2857\n",
            "Epoch 130/150\n",
            "2/2 [==============================] - 0s 26ms/step - loss: 1.0788 - accuracy: 0.5645 - val_loss: 1.3262 - val_accuracy: 0.2857\n",
            "Epoch 131/150\n",
            "2/2 [==============================] - 0s 23ms/step - loss: 1.0782 - accuracy: 0.5645 - val_loss: 1.3268 - val_accuracy: 0.2857\n",
            "Epoch 132/150\n",
            "2/2 [==============================] - 0s 25ms/step - loss: 1.0775 - accuracy: 0.5645 - val_loss: 1.3252 - val_accuracy: 0.2857\n",
            "Epoch 133/150\n",
            "2/2 [==============================] - 0s 23ms/step - loss: 1.0765 - accuracy: 0.5645 - val_loss: 1.3251 - val_accuracy: 0.2857\n",
            "Epoch 134/150\n",
            "2/2 [==============================] - 0s 25ms/step - loss: 1.0757 - accuracy: 0.5645 - val_loss: 1.3250 - val_accuracy: 0.2857\n",
            "Epoch 135/150\n",
            "2/2 [==============================] - 0s 22ms/step - loss: 1.0749 - accuracy: 0.5645 - val_loss: 1.3250 - val_accuracy: 0.2857\n",
            "Epoch 136/150\n",
            "2/2 [==============================] - 0s 27ms/step - loss: 1.0744 - accuracy: 0.5645 - val_loss: 1.3262 - val_accuracy: 0.2857\n",
            "Epoch 137/150\n",
            "2/2 [==============================] - 0s 24ms/step - loss: 1.0736 - accuracy: 0.5645 - val_loss: 1.3257 - val_accuracy: 0.2857\n",
            "Epoch 138/150\n",
            "2/2 [==============================] - 0s 24ms/step - loss: 1.0729 - accuracy: 0.5645 - val_loss: 1.3259 - val_accuracy: 0.2857\n",
            "Epoch 139/150\n",
            "2/2 [==============================] - 0s 23ms/step - loss: 1.0719 - accuracy: 0.5645 - val_loss: 1.3256 - val_accuracy: 0.2857\n",
            "Epoch 140/150\n",
            "2/2 [==============================] - 0s 26ms/step - loss: 1.0713 - accuracy: 0.5645 - val_loss: 1.3265 - val_accuracy: 0.2857\n",
            "Epoch 141/150\n",
            "2/2 [==============================] - 0s 26ms/step - loss: 1.0708 - accuracy: 0.5645 - val_loss: 1.3258 - val_accuracy: 0.2857\n",
            "Epoch 142/150\n",
            "2/2 [==============================] - 0s 23ms/step - loss: 1.0697 - accuracy: 0.5645 - val_loss: 1.3256 - val_accuracy: 0.2857\n",
            "Epoch 143/150\n",
            "2/2 [==============================] - 0s 23ms/step - loss: 1.0692 - accuracy: 0.5645 - val_loss: 1.3262 - val_accuracy: 0.2857\n",
            "Epoch 144/150\n",
            "2/2 [==============================] - 0s 26ms/step - loss: 1.0689 - accuracy: 0.5645 - val_loss: 1.3251 - val_accuracy: 0.2857\n",
            "Epoch 145/150\n",
            "2/2 [==============================] - 0s 23ms/step - loss: 1.0675 - accuracy: 0.5645 - val_loss: 1.3262 - val_accuracy: 0.2857\n",
            "Epoch 146/150\n",
            "2/2 [==============================] - 0s 20ms/step - loss: 1.0672 - accuracy: 0.5645 - val_loss: 1.3277 - val_accuracy: 0.2857\n",
            "Epoch 147/150\n",
            "2/2 [==============================] - 0s 20ms/step - loss: 1.0661 - accuracy: 0.5645 - val_loss: 1.3275 - val_accuracy: 0.2857\n",
            "Epoch 148/150\n",
            "2/2 [==============================] - 0s 24ms/step - loss: 1.0653 - accuracy: 0.5645 - val_loss: 1.3271 - val_accuracy: 0.2857\n",
            "Epoch 149/150\n",
            "2/2 [==============================] - 0s 23ms/step - loss: 1.0649 - accuracy: 0.5645 - val_loss: 1.3258 - val_accuracy: 0.2857\n",
            "Epoch 150/150\n",
            "2/2 [==============================] - 0s 21ms/step - loss: 1.0640 - accuracy: 0.5645 - val_loss: 1.3270 - val_accuracy: 0.2857\n",
            "Model: \"sequential_1\"\n",
            "_________________________________________________________________\n",
            " Layer (type)                Output Shape              Param #   \n",
            "=================================================================\n",
            " Capa_de_Entrada (Dense)     (None, 8)                 72        \n",
            "                                                                 \n",
            " Capa_Oculta (Dense)         (None, 6)                 54        \n",
            "                                                                 \n",
            " Capa_de_Salida (Dense)      (None, 4)                 28        \n",
            "                                                                 \n",
            "=================================================================\n",
            "Total params: 154\n",
            "Trainable params: 154\n",
            "Non-trainable params: 0\n",
            "_________________________________________________________________\n",
            "dict_keys(['loss', 'accuracy', 'val_loss', 'val_accuracy'])\n"
          ]
        },
        {
          "output_type": "display_data",
          "data": {
            "text/plain": [
              "<Figure size 432x288 with 1 Axes>"
            ],
            "image/png": "[encoded data removed]"
          },
          "metadata": {
            "needs_background": "light"
          }
        }
      ],
      "source": [
        "# Train the model\n",
        "history = model.fit(X_train, y_train, epochs=150, verbose=1, validation_split=0.1)\n",
        "model.summary()\n",
        "print(history.history.keys())\n",
        "plt.plot(history.history['loss'])\n",
        "plt.plot(history.history['val_loss'])\n",
        "plt.title('model loss')\n",
        "plt.ylabel('loss')\n",
        "plt.xlabel('epoch')\n",
        "plt.legend(['train', 'validation'], loc='upper right')\n",
        "plt.show()"
      ]
    },
    {
      "cell_type": "code",
      "execution_count": 31,
      "metadata": {
        "colab": {
          "base_uri": "https://localhost:8080/"
        },
        "id": "J3PPsapx_qsS",
        "outputId": "00cdbd7e-2fc8-48ce-ffa3-edaccc3ee34d"
      },
      "outputs": [
        {
          "output_type": "stream",
          "name": "stdout",
          "text": [
            "3/3 [==============================] - 0s 3ms/step - loss: 1.0871 - accuracy: 0.5632\n",
            "Precisión:  0.5632184147834778 \n",
            " Valores de pérdida: 1.0870996713638306\n"
          ]
        }
      ],
      "source": [
        "# Evaluamos el modelo con métricas\n",
        "from sklearn import metrics\n",
        "\n",
        "loss, acc = model.evaluate(X, y_cat)\n",
        "print(\"Precisión: \",acc,\"\\n Valores de pérdida:\",loss)"
      ]
    },
    {
      "cell_type": "code",
      "execution_count": 32,
      "metadata": {
        "id": "eUQwMUwcCZCu"
      },
      "outputs": [],
      "source": [
        "predictions = model.predict(X_test)"
      ]
    },
    {
      "cell_type": "code",
      "execution_count": 33,
      "metadata": {
        "colab": {
          "base_uri": "https://localhost:8080/",
          "height": 301
        },
        "id": "PaoU3HkwDAUl",
        "outputId": "b98436b2-2d05-4ea5-bcf2-846cd9905d61"
      },
      "outputs": [
        {
          "output_type": "stream",
          "name": "stdout",
          "text": [
            "1/1 - 0s - loss: 1.0759 - accuracy: 0.6667 - 19ms/epoch - 19ms/step\n"
          ]
        },
        {
          "output_type": "display_data",
          "data": {
            "text/plain": [
              "<Figure size 432x288 with 1 Axes>"
            ],
            "image/png": "[encoded data removed]"
          },
          "metadata": {
            "needs_background": "light"
          }
        }
      ],
      "source": [
        "plt.plot(history.history['accuracy'], label='accuracy')\n",
        "plt.plot(history.history['val_accuracy'], label = 'val_accuracy')\n",
        "plt.xlabel('Epoch')\n",
        "plt.ylabel('Accuracy')\n",
        "plt.ylim([0, 1])\n",
        "plt.legend(loc='lower right')\n",
        "\n",
        "test_loss, test_acc = model.evaluate(X_test,  y_test, verbose=2)"
      ]
    },
    {
      "cell_type": "code",
      "execution_count": 34,
      "metadata": {
        "colab": {
          "base_uri": "https://localhost:8080/"
        },
        "id": "cCXCXjRGE_nI",
        "outputId": "7f7ba63f-a8fe-430f-bbb3-c5effee7c8c9"
      },
      "outputs": [
        {
          "output_type": "stream",
          "name": "stdout",
          "text": [
            "test_acc:   66.66666865348816\n",
            "test_loss:  1.0759083032608032\n"
          ]
        }
      ],
      "source": [
        "print('test_acc:  ', test_acc*100)\n",
        "print('test_loss: ', test_loss)"
      ]
    },
    {
      "cell_type": "code",
      "execution_count": 41,
      "metadata": {
        "id": "81iQwrQrG03I"
      },
      "outputs": [],
      "source": [
        "from sklearn.metrics import confusion_matrix, precision_score, f1_score"
      ]
    },
    {
      "cell_type": "code",
      "execution_count": 36,
      "metadata": {
        "id": "YJg3gfc9I34b"
      },
      "outputs": [],
      "source": [
        "y_test_label = np.argmax(y_test,axis=1) \n",
        "y_pred_label = np.argmax(predictions,axis=1)"
      ]
    },
    {
      "cell_type": "code",
      "source": [
        "cm = confusion_matrix(y_test_label, y_pred_label)\n",
        "df_cm = pd.DataFrame(cm, index = [i for i in range(0,4)], columns = [i for i in range(0,4)])\n",
        "plt.figure(figsize = (10,7))\n",
        "sn.heatmap(df_cm, annot=True)\n",
        "plt.show()"
      ],
      "metadata": {
        "colab": {
          "base_uri": "https://localhost:8080/",
          "height": 432
        },
        "id": "0uLJzxd5L-XO",
        "outputId": "0dade38b-0246-4d53-e9bb-5734de4d5a8b"
      },
      "execution_count": 37,
      "outputs": [
        {
          "output_type": "display_data",
          "data": {
            "text/plain": [
              "<Figure size 720x504 with 2 Axes>"
            ],
            "image/png": "[encoded data removed]"
          },
          "metadata": {
            "needs_background": "light"
          }
        }
      ]
    },
    {
      "cell_type": "code",
      "execution_count": 23,
      "metadata": {
        "colab": {
          "base_uri": "https://localhost:8080/"
        },
        "id": "0LgSH2qRJ1sW",
        "outputId": "207d3567-282e-4151-bf8e-385f1ebb5ca0"
      },
      "outputs": [
        {
          "output_type": "execute_result",
          "data": {
            "text/plain": [
              "0.25"
            ]
          },
          "metadata": {},
          "execution_count": 23
        }
      ],
      "source": [
        "precision_score(y_pred_label, y_test_label, average='macro')"
      ]
    },
    {
      "cell_type": "code",
      "execution_count": 40,
      "metadata": {
        "colab": {
          "base_uri": "https://localhost:8080/"
        },
        "id": "ZswNC8IaFDXN",
        "outputId": "d87c1c90-8d6d-4e69-9399-a515f1b515a1"
      },
      "outputs": [
        {
          "output_type": "execute_result",
          "data": {
            "text/plain": [
              "0.38315217391304346"
            ]
          },
          "metadata": {},
          "execution_count": 40
        }
      ],
      "source": [
        "f1_score(y_pred_label, y_test_label,  average='macro')"
      ]
    }
  ],
  "metadata": {
    "colab": {
      "collapsed_sections": [],
      "name": "modelos.ipynb",
      "provenance": [],
      "include_colab_link": true
    },
    "kernelspec": {
      "display_name": "Python 3",
      "language": "python",
      "name": "python3"
    },
    "language_info": {
      "codemirror_mode": {
        "name": "ipython",
        "version": 3
      },
      "file_extension": ".py",
      "mimetype": "text/x-python",
      "name": "python",
      "nbconvert_exporter": "python",
      "pygments_lexer": "ipython3",
      "version": "3.8.5"
    }
  },
  "nbformat": 4,
  "nbformat_minor": 0
}