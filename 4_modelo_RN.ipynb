{
  "cells": [
    {
      "cell_type": "markdown",
      "metadata": {
        "id": "view-in-github",
        "colab_type": "text"
      },
      "source": [
        "<a href=\"https://colab.research.google.com/github/gonzalezf333/final_IA_avances/blob/main/4_modelo_RN.ipynb\" target=\"_parent\"><img src=\"https://colab.research.google.com/assets/colab-badge.svg\" alt=\"Open In Colab\"/></a>"
      ]
    },
    {
      "cell_type": "code",
      "execution_count": 1,
      "metadata": {
        "id": "HL5mpfMaTOZi"
      },
      "outputs": [],
      "source": [
        "import numpy as np\n",
        "import pandas as pd"
      ]
    },
    {
      "cell_type": "code",
      "execution_count": 2,
      "metadata": {
        "colab": {
          "base_uri": "https://localhost:8080/"
        },
        "id": "h05bGdCyTheN",
        "outputId": "d844b17f-9e19-4a0d-9b3c-1224b7d26b66"
      },
      "outputs": [
        {
          "output_type": "stream",
          "name": "stdout",
          "text": [
            "Mounted at /content/drive\n"
          ]
        }
      ],
      "source": [
        "from google.colab import drive\n",
        "drive.mount('/content/drive')"
      ]
    },
    {
      "cell_type": "code",
      "execution_count": 3,
      "metadata": {
        "colab": {
          "base_uri": "https://localhost:8080/",
          "height": 267
        },
        "id": "fxv-e6eFTOZs",
        "outputId": "8d5e0ffc-f46c-4337-c12e-5f5ec7164775"
      },
      "outputs": [
        {
          "output_type": "execute_result",
          "data": {
            "text/plain": [
              "  id_anony Cod.Car.Sec  tardoCB  PasoCB  recursadas_s1  prom_al1  prom_c1  \\\n",
              "0  es_2677  CGF-PLS13         2       1              0       5.0      3.0   \n",
              "1  es_2728  CGF-PLS13         5       1              2       3.0      1.5   \n",
              "2  es_3008  CGF-PLS13         2       1              0       2.0      3.0   \n",
              "3  es_3110  CGF-PLS13         2       1              0       4.0      4.0   \n",
              "4  es_1810  CIV-PLS13         2       1              0       5.0      5.0   \n",
              "\n",
              "   prom_dt  prom_f1  prom_ga  prom_gd  prom_1er_S  CIV-PLS13   ECA-PLS13   \\\n",
              "0      5.0      3.0      5.0      4.0    4.166667           0           0   \n",
              "1      1.5      2.0      2.0      5.0    2.312500           0           0   \n",
              "2      4.0      4.0      5.0      4.0    3.666667           0           0   \n",
              "3      5.0      5.0      5.0      5.0    4.666667           0           0   \n",
              "4      5.0      5.0      5.0      5.0    5.000000           1           0   \n",
              "\n",
              "   ELE-PLS13   IND-PLS13   MCT-PLS13   MEC-PLS13   \n",
              "0           0           0           0           0  \n",
              "1           0           0           0           0  \n",
              "2           0           0           0           0  \n",
              "3           0           0           0           0  \n",
              "4           0           0           0           0  "
            ],
            "text/html": [
              "\n",
              "  <div id=\"df-ccf241ad-0c1e-446a-962f-de7ba9d2839a\">\n",
              "    <div class=\"colab-df-container\">\n",
              "      <div>\n",
              "<style scoped>\n",
              "    .dataframe tbody tr th:only-of-type {\n",
              "        vertical-align: middle;\n",
              "    }\n",
              "\n",
              "    .dataframe tbody tr th {\n",
              "        vertical-align: top;\n",
              "    }\n",
              "\n",
              "    .dataframe thead th {\n",
              "        text-align: right;\n",
              "    }\n",
              "</style>\n",
              "<table border=\"1\" class=\"dataframe\">\n",
              "  <thead>\n",
              "    <tr style=\"text-align: right;\">\n",
              "      <th></th>\n",
              "      <th>id_anony</th>\n",
              "      <th>Cod.Car.Sec</th>\n",
              "      <th>tardoCB</th>\n",
              "      <th>PasoCB</th>\n",
              "      <th>recursadas_s1</th>\n",
              "      <th>prom_al1</th>\n",
              "      <th>prom_c1</th>\n",
              "      <th>prom_dt</th>\n",
              "      <th>prom_f1</th>\n",
              "      <th>prom_ga</th>\n",
              "      <th>prom_gd</th>\n",
              "      <th>prom_1er_S</th>\n",
              "      <th>CIV-PLS13</th>\n",
              "      <th>ECA-PLS13</th>\n",
              "      <th>ELE-PLS13</th>\n",
              "      <th>IND-PLS13</th>\n",
              "      <th>MCT-PLS13</th>\n",
              "      <th>MEC-PLS13</th>\n",
              "    </tr>\n",
              "  </thead>\n",
              "  <tbody>\n",
              "    <tr>\n",
              "      <th>0</th>\n",
              "      <td>es_2677</td>\n",
              "      <td>CGF-PLS13</td>\n",
              "      <td>2</td>\n",
              "      <td>1</td>\n",
              "      <td>0</td>\n",
              "      <td>5.0</td>\n",
              "      <td>3.0</td>\n",
              "      <td>5.0</td>\n",
              "      <td>3.0</td>\n",
              "      <td>5.0</td>\n",
              "      <td>4.0</td>\n",
              "      <td>4.166667</td>\n",
              "      <td>0</td>\n",
              "      <td>0</td>\n",
              "      <td>0</td>\n",
              "      <td>0</td>\n",
              "      <td>0</td>\n",
              "      <td>0</td>\n",
              "    </tr>\n",
              "    <tr>\n",
              "      <th>1</th>\n",
              "      <td>es_2728</td>\n",
              "      <td>CGF-PLS13</td>\n",
              "      <td>5</td>\n",
              "      <td>1</td>\n",
              "      <td>2</td>\n",
              "      <td>3.0</td>\n",
              "      <td>1.5</td>\n",
              "      <td>1.5</td>\n",
              "      <td>2.0</td>\n",
              "      <td>2.0</td>\n",
              "      <td>5.0</td>\n",
              "      <td>2.312500</td>\n",
              "      <td>0</td>\n",
              "      <td>0</td>\n",
              "      <td>0</td>\n",
              "      <td>0</td>\n",
              "      <td>0</td>\n",
              "      <td>0</td>\n",
              "    </tr>\n",
              "    <tr>\n",
              "      <th>2</th>\n",
              "      <td>es_3008</td>\n",
              "      <td>CGF-PLS13</td>\n",
              "      <td>2</td>\n",
              "      <td>1</td>\n",
              "      <td>0</td>\n",
              "      <td>2.0</td>\n",
              "      <td>3.0</td>\n",
              "      <td>4.0</td>\n",
              "      <td>4.0</td>\n",
              "      <td>5.0</td>\n",
              "      <td>4.0</td>\n",
              "      <td>3.666667</td>\n",
              "      <td>0</td>\n",
              "      <td>0</td>\n",
              "      <td>0</td>\n",
              "      <td>0</td>\n",
              "      <td>0</td>\n",
              "      <td>0</td>\n",
              "    </tr>\n",
              "    <tr>\n",
              "      <th>3</th>\n",
              "      <td>es_3110</td>\n",
              "      <td>CGF-PLS13</td>\n",
              "      <td>2</td>\n",
              "      <td>1</td>\n",
              "      <td>0</td>\n",
              "      <td>4.0</td>\n",
              "      <td>4.0</td>\n",
              "      <td>5.0</td>\n",
              "      <td>5.0</td>\n",
              "      <td>5.0</td>\n",
              "      <td>5.0</td>\n",
              "      <td>4.666667</td>\n",
              "      <td>0</td>\n",
              "      <td>0</td>\n",
              "      <td>0</td>\n",
              "      <td>0</td>\n",
              "      <td>0</td>\n",
              "      <td>0</td>\n",
              "    </tr>\n",
              "    <tr>\n",
              "      <th>4</th>\n",
              "      <td>es_1810</td>\n",
              "      <td>CIV-PLS13</td>\n",
              "      <td>2</td>\n",
              "      <td>1</td>\n",
              "      <td>0</td>\n",
              "      <td>5.0</td>\n",
              "      <td>5.0</td>\n",
              "      <td>5.0</td>\n",
              "      <td>5.0</td>\n",
              "      <td>5.0</td>\n",
              "      <td>5.0</td>\n",
              "      <td>5.000000</td>\n",
              "      <td>1</td>\n",
              "      <td>0</td>\n",
              "      <td>0</td>\n",
              "      <td>0</td>\n",
              "      <td>0</td>\n",
              "      <td>0</td>\n",
              "    </tr>\n",
              "  </tbody>\n",
              "</table>\n",
              "</div>\n",
              "      <button class=\"colab-df-convert\" onclick=\"convertToInteractive('df-ccf241ad-0c1e-446a-962f-de7ba9d2839a')\"\n",
              "              title=\"Convert this dataframe to an interactive table.\"\n",
              "              style=\"display:none;\">\n",
              "        \n",
              "  <svg xmlns=\"http://www.w3.org/2000/svg\" height=\"24px\"viewBox=\"0 0 24 24\"\n",
              "       width=\"24px\">\n",
              "    <path d=\"M0 0h24v24H0V0z\" fill=\"none\"/>\n",
              "    <path d=\"M18.56 5.44l.94 2.06.94-2.06 2.06-.94-2.06-.94-.94-2.06-.94 2.06-2.06.94zm-11 1L8.5 8.5l.94-2.06 2.06-.94-2.06-.94L8.5 2.5l-.94 2.06-2.06.94zm10 10l.94 2.06.94-2.06 2.06-.94-2.06-.94-.94-2.06-.94 2.06-2.06.94z\"/><path d=\"M17.41 7.96l-1.37-1.37c-.4-.4-.92-.59-1.43-.59-.52 0-1.04.2-1.43.59L10.3 9.45l-7.72 7.72c-.78.78-.78 2.05 0 2.83L4 21.41c.39.39.9.59 1.41.59.51 0 1.02-.2 1.41-.59l7.78-7.78 2.81-2.81c.8-.78.8-2.07 0-2.86zM5.41 20L4 18.59l7.72-7.72 1.47 1.35L5.41 20z\"/>\n",
              "  </svg>\n",
              "      </button>\n",
              "      \n",
              "  <style>\n",
              "    .colab-df-container {\n",
              "      display:flex;\n",
              "      flex-wrap:wrap;\n",
              "      gap: 12px;\n",
              "    }\n",
              "\n",
              "    .colab-df-convert {\n",
              "      background-color: #E8F0FE;\n",
              "      border: none;\n",
              "      border-radius: 50%;\n",
              "      cursor: pointer;\n",
              "      display: none;\n",
              "      fill: #1967D2;\n",
              "      height: 32px;\n",
              "      padding: 0 0 0 0;\n",
              "      width: 32px;\n",
              "    }\n",
              "\n",
              "    .colab-df-convert:hover {\n",
              "      background-color: #E2EBFA;\n",
              "      box-shadow: 0px 1px 2px rgba(60, 64, 67, 0.3), 0px 1px 3px 1px rgba(60, 64, 67, 0.15);\n",
              "      fill: #174EA6;\n",
              "    }\n",
              "\n",
              "    [theme=dark] .colab-df-convert {\n",
              "      background-color: #3B4455;\n",
              "      fill: #D2E3FC;\n",
              "    }\n",
              "\n",
              "    [theme=dark] .colab-df-convert:hover {\n",
              "      background-color: #434B5C;\n",
              "      box-shadow: 0px 1px 3px 1px rgba(0, 0, 0, 0.15);\n",
              "      filter: drop-shadow(0px 1px 2px rgba(0, 0, 0, 0.3));\n",
              "      fill: #FFFFFF;\n",
              "    }\n",
              "  </style>\n",
              "\n",
              "      <script>\n",
              "        const buttonEl =\n",
              "          document.querySelector('#df-ccf241ad-0c1e-446a-962f-de7ba9d2839a button.colab-df-convert');\n",
              "        buttonEl.style.display =\n",
              "          google.colab.kernel.accessAllowed ? 'block' : 'none';\n",
              "\n",
              "        async function convertToInteractive(key) {\n",
              "          const element = document.querySelector('#df-ccf241ad-0c1e-446a-962f-de7ba9d2839a');\n",
              "          const dataTable =\n",
              "            await google.colab.kernel.invokeFunction('convertToInteractive',\n",
              "                                                     [key], {});\n",
              "          if (!dataTable) return;\n",
              "\n",
              "          const docLinkHtml = 'Like what you see? Visit the ' +\n",
              "            '<a target=\"_blank\" href=https://colab.research.google.com/notebooks/data_table.ipynb>data table notebook</a>'\n",
              "            + ' to learn more about interactive tables.';\n",
              "          element.innerHTML = '';\n",
              "          dataTable['output_type'] = 'display_data';\n",
              "          await google.colab.output.renderOutput(dataTable, element);\n",
              "          const docLink = document.createElement('div');\n",
              "          docLink.innerHTML = docLinkHtml;\n",
              "          element.appendChild(docLink);\n",
              "        }\n",
              "      </script>\n",
              "    </div>\n",
              "  </div>\n",
              "  "
            ]
          },
          "metadata": {},
          "execution_count": 3
        }
      ],
      "source": [
        "link = 'drive/My Drive/IA_2022/datos_finales_RN.csv'\n",
        "datos = pd.read_csv(link)\n",
        "datos.head()"
      ]
    },
    {
      "cell_type": "code",
      "execution_count": 4,
      "metadata": {
        "colab": {
          "base_uri": "https://localhost:8080/"
        },
        "id": "-ex2lrtaTOZv",
        "outputId": "713dc30d-b284-4f9b-e8af-00d587f778a2"
      },
      "outputs": [
        {
          "output_type": "execute_result",
          "data": {
            "text/plain": [
              "array([2, 3, 4, 5, 6, 7])"
            ]
          },
          "metadata": {},
          "execution_count": 4
        }
      ],
      "source": [
        "np.unique(datos['tardoCB']) # 4 clases: tardo 2, 3, 4, 5 o mas años"
      ]
    },
    {
      "cell_type": "code",
      "execution_count": 5,
      "metadata": {
        "id": "LRqvbtQd97Nv"
      },
      "outputs": [],
      "source": [
        "def clasear(x):\n",
        "    if x<5:\n",
        "        return int(x-2)\n",
        "    else:\n",
        "        return 3"
      ]
    },
    {
      "cell_type": "code",
      "execution_count": 6,
      "metadata": {
        "id": "ssvHvjiX98DI"
      },
      "outputs": [],
      "source": [
        "datos['tardoCB'] = datos['tardoCB'].apply(clasear)"
      ]
    },
    {
      "cell_type": "code",
      "execution_count": 7,
      "metadata": {
        "colab": {
          "base_uri": "https://localhost:8080/"
        },
        "id": "btk8jUmX-CxE",
        "outputId": "1dee0656-2afc-4e1d-bec1-18e57b0bd8c8"
      },
      "outputs": [
        {
          "output_type": "execute_result",
          "data": {
            "text/plain": [
              "array([0, 1, 2, 3])"
            ]
          },
          "metadata": {},
          "execution_count": 7
        }
      ],
      "source": [
        "np.unique(datos['tardoCB']) # 4 clases: 0 para 2 años, 1 para 3 años, 2 para 4 años, 3 para 5 años o mas"
      ]
    },
    {
      "cell_type": "code",
      "execution_count": 8,
      "metadata": {
        "colab": {
          "base_uri": "https://localhost:8080/"
        },
        "id": "8dywQ2voTOZy",
        "outputId": "6e84bd76-c66b-440d-da1c-b4cb257ba516"
      },
      "outputs": [
        {
          "output_type": "execute_result",
          "data": {
            "text/plain": [
              "((689, 14), (689, 1))"
            ]
          },
          "metadata": {},
          "execution_count": 8
        }
      ],
      "source": [
        "X = datos.drop(columns=['tardoCB','id_anony','PasoCB','Cod.Car.Sec'])\n",
        "y = pd.DataFrame(datos['tardoCB'].values.astype(np.int64), columns=['tardoCB'])\n",
        "X.shape, y.shape"
      ]
    },
    {
      "cell_type": "code",
      "execution_count": 9,
      "metadata": {
        "id": "Brdw9hsfi7TQ"
      },
      "outputs": [],
      "source": [
        "X = X.values.astype(float)\n",
        "y = y.values"
      ]
    },
    {
      "cell_type": "code",
      "execution_count": 10,
      "metadata": {
        "id": "Da8jtjR6TOZ0"
      },
      "outputs": [],
      "source": [
        "from sklearn.model_selection import train_test_split"
      ]
    },
    {
      "cell_type": "code",
      "execution_count": 11,
      "metadata": {
        "id": "BNL-h923XU5D"
      },
      "outputs": [],
      "source": [
        "from keras.models import Sequential\n",
        "from keras.layers import Dense\n",
        "from keras.utils import np_utils\n",
        "from sklearn.model_selection import cross_val_score\n",
        "from tensorflow.keras.utils import to_categorical\n",
        "import matplotlib.pyplot as plt\n",
        "import seaborn as sn"
      ]
    },
    {
      "cell_type": "code",
      "execution_count": 12,
      "metadata": {
        "id": "xxX25Stq5nKL"
      },
      "outputs": [],
      "source": [
        "y_cat = to_categorical(y)"
      ]
    },
    {
      "cell_type": "code",
      "execution_count": 13,
      "metadata": {
        "id": "K6e62D53Bn5B"
      },
      "outputs": [],
      "source": [
        "X_train, X_test, y_train, y_test = train_test_split(X, y_cat, test_size=0.2, random_state=42)"
      ]
    },
    {
      "cell_type": "code",
      "execution_count": 42,
      "metadata": {
        "colab": {
          "base_uri": "https://localhost:8080/"
        },
        "id": "hp3_j-Ph54SS",
        "outputId": "6cb13664-d0b5-42d8-8d82-520eea663723"
      },
      "outputs": [
        {
          "output_type": "stream",
          "name": "stdout",
          "text": [
            "Model: \"sequential_3\"\n",
            "_________________________________________________________________\n",
            " Layer (type)                Output Shape              Param #   \n",
            "=================================================================\n",
            " Capa_de_Entrada (Dense)     (None, 14)                210       \n",
            "                                                                 \n",
            " Capa_Oculta (Dense)         (None, 7)                 105       \n",
            "                                                                 \n",
            " Capa_de_Salida (Dense)      (None, 4)                 32        \n",
            "                                                                 \n",
            "=================================================================\n",
            "Total params: 347\n",
            "Trainable params: 347\n",
            "Non-trainable params: 0\n",
            "_________________________________________________________________\n"
          ]
        }
      ],
      "source": [
        "model = Sequential()\n",
        "model.add(Dense(14, activation='relu' , input_shape=( X.shape[1], ), name = \"Capa_de_Entrada\"))\n",
        "model.add(Dense(7, activation='relu'   , name = \"Capa_Oculta\"))\n",
        "model.add(Dense(4, activation='softmax', name = \"Capa_de_Salida\"))\n",
        "model.compile(optimizer = 'rmsprop',\n",
        "             loss = 'categorical_crossentropy',\n",
        "             metrics = ['accuracy'])\n",
        "model.summary()"
      ]
    },
    {
      "cell_type": "code",
      "execution_count": 43,
      "metadata": {
        "colab": {
          "base_uri": "https://localhost:8080/",
          "height": 1000
        },
        "id": "cD4-hjRtBauU",
        "outputId": "791d7880-f2b7-4151-c48b-95cc31388ef7"
      },
      "outputs": [
        {
          "output_type": "stream",
          "name": "stdout",
          "text": [
            "Epoch 1/45\n",
            "4/4 [==============================] - 1s 68ms/step - loss: 1.5779 - accuracy: 0.1616 - val_loss: 1.5226 - val_accuracy: 0.1071\n",
            "Epoch 2/45\n",
            "4/4 [==============================] - 0s 13ms/step - loss: 1.4530 - accuracy: 0.2848 - val_loss: 1.4398 - val_accuracy: 0.2143\n",
            "Epoch 3/45\n",
            "4/4 [==============================] - 0s 15ms/step - loss: 1.4013 - accuracy: 0.3596 - val_loss: 1.3953 - val_accuracy: 0.3571\n",
            "Epoch 4/45\n",
            "4/4 [==============================] - 0s 11ms/step - loss: 1.3744 - accuracy: 0.3939 - val_loss: 1.3678 - val_accuracy: 0.3750\n",
            "Epoch 5/45\n",
            "4/4 [==============================] - 0s 11ms/step - loss: 1.3553 - accuracy: 0.4141 - val_loss: 1.3474 - val_accuracy: 0.4107\n",
            "Epoch 6/45\n",
            "4/4 [==============================] - 0s 12ms/step - loss: 1.3412 - accuracy: 0.4283 - val_loss: 1.3337 - val_accuracy: 0.4286\n",
            "Epoch 7/45\n",
            "4/4 [==============================] - 0s 11ms/step - loss: 1.3288 - accuracy: 0.4283 - val_loss: 1.3196 - val_accuracy: 0.4286\n",
            "Epoch 8/45\n",
            "4/4 [==============================] - 0s 12ms/step - loss: 1.3187 - accuracy: 0.4263 - val_loss: 1.3091 - val_accuracy: 0.4286\n",
            "Epoch 9/45\n",
            "4/4 [==============================] - 0s 12ms/step - loss: 1.3073 - accuracy: 0.4222 - val_loss: 1.2997 - val_accuracy: 0.4286\n",
            "Epoch 10/45\n",
            "4/4 [==============================] - 0s 12ms/step - loss: 1.2987 - accuracy: 0.4242 - val_loss: 1.2919 - val_accuracy: 0.4286\n",
            "Epoch 11/45\n",
            "4/4 [==============================] - 0s 12ms/step - loss: 1.2898 - accuracy: 0.4343 - val_loss: 1.2843 - val_accuracy: 0.4286\n",
            "Epoch 12/45\n",
            "4/4 [==============================] - 0s 15ms/step - loss: 1.2821 - accuracy: 0.4384 - val_loss: 1.2762 - val_accuracy: 0.4286\n",
            "Epoch 13/45\n",
            "4/4 [==============================] - 0s 10ms/step - loss: 1.2738 - accuracy: 0.4465 - val_loss: 1.2687 - val_accuracy: 0.4464\n",
            "Epoch 14/45\n",
            "4/4 [==============================] - 0s 10ms/step - loss: 1.2655 - accuracy: 0.4485 - val_loss: 1.2617 - val_accuracy: 0.4464\n",
            "Epoch 15/45\n",
            "4/4 [==============================] - 0s 11ms/step - loss: 1.2577 - accuracy: 0.4525 - val_loss: 1.2544 - val_accuracy: 0.4464\n",
            "Epoch 16/45\n",
            "4/4 [==============================] - 0s 11ms/step - loss: 1.2503 - accuracy: 0.4606 - val_loss: 1.2475 - val_accuracy: 0.4464\n",
            "Epoch 17/45\n",
            "4/4 [==============================] - 0s 11ms/step - loss: 1.2426 - accuracy: 0.4687 - val_loss: 1.2413 - val_accuracy: 0.4643\n",
            "Epoch 18/45\n",
            "4/4 [==============================] - 0s 13ms/step - loss: 1.2362 - accuracy: 0.4687 - val_loss: 1.2338 - val_accuracy: 0.4643\n",
            "Epoch 19/45\n",
            "4/4 [==============================] - 0s 11ms/step - loss: 1.2287 - accuracy: 0.4707 - val_loss: 1.2276 - val_accuracy: 0.4643\n",
            "Epoch 20/45\n",
            "4/4 [==============================] - 0s 11ms/step - loss: 1.2205 - accuracy: 0.4707 - val_loss: 1.2204 - val_accuracy: 0.4643\n",
            "Epoch 21/45\n",
            "4/4 [==============================] - 0s 11ms/step - loss: 1.2138 - accuracy: 0.4727 - val_loss: 1.2157 - val_accuracy: 0.4643\n",
            "Epoch 22/45\n",
            "4/4 [==============================] - 0s 12ms/step - loss: 1.2057 - accuracy: 0.4707 - val_loss: 1.2093 - val_accuracy: 0.4643\n",
            "Epoch 23/45\n",
            "4/4 [==============================] - 0s 11ms/step - loss: 1.1983 - accuracy: 0.4747 - val_loss: 1.2026 - val_accuracy: 0.4643\n",
            "Epoch 24/45\n",
            "4/4 [==============================] - 0s 14ms/step - loss: 1.1914 - accuracy: 0.4747 - val_loss: 1.1972 - val_accuracy: 0.4643\n",
            "Epoch 25/45\n",
            "4/4 [==============================] - 0s 10ms/step - loss: 1.1829 - accuracy: 0.4727 - val_loss: 1.1939 - val_accuracy: 0.4643\n",
            "Epoch 26/45\n",
            "4/4 [==============================] - 0s 10ms/step - loss: 1.1766 - accuracy: 0.4788 - val_loss: 1.1894 - val_accuracy: 0.4643\n",
            "Epoch 27/45\n",
            "4/4 [==============================] - 0s 19ms/step - loss: 1.1692 - accuracy: 0.4808 - val_loss: 1.1858 - val_accuracy: 0.4643\n",
            "Epoch 28/45\n",
            "4/4 [==============================] - 0s 11ms/step - loss: 1.1630 - accuracy: 0.4808 - val_loss: 1.1812 - val_accuracy: 0.4643\n",
            "Epoch 29/45\n",
            "4/4 [==============================] - 0s 10ms/step - loss: 1.1576 - accuracy: 0.4869 - val_loss: 1.1764 - val_accuracy: 0.4643\n",
            "Epoch 30/45\n",
            "4/4 [==============================] - 0s 10ms/step - loss: 1.1484 - accuracy: 0.4909 - val_loss: 1.1726 - val_accuracy: 0.4821\n",
            "Epoch 31/45\n",
            "4/4 [==============================] - 0s 10ms/step - loss: 1.1405 - accuracy: 0.4949 - val_loss: 1.1667 - val_accuracy: 0.4643\n",
            "Epoch 32/45\n",
            "4/4 [==============================] - 0s 10ms/step - loss: 1.1338 - accuracy: 0.5010 - val_loss: 1.1607 - val_accuracy: 0.4464\n",
            "Epoch 33/45\n",
            "4/4 [==============================] - 0s 10ms/step - loss: 1.1280 - accuracy: 0.4949 - val_loss: 1.1575 - val_accuracy: 0.4643\n",
            "Epoch 34/45\n",
            "4/4 [==============================] - 0s 14ms/step - loss: 1.1219 - accuracy: 0.4970 - val_loss: 1.1540 - val_accuracy: 0.4821\n",
            "Epoch 35/45\n",
            "4/4 [==============================] - 0s 10ms/step - loss: 1.1140 - accuracy: 0.4970 - val_loss: 1.1488 - val_accuracy: 0.4821\n",
            "Epoch 36/45\n",
            "4/4 [==============================] - 0s 10ms/step - loss: 1.1087 - accuracy: 0.5131 - val_loss: 1.1468 - val_accuracy: 0.4643\n",
            "Epoch 37/45\n",
            "4/4 [==============================] - 0s 10ms/step - loss: 1.1035 - accuracy: 0.5131 - val_loss: 1.1433 - val_accuracy: 0.4821\n",
            "Epoch 38/45\n",
            "4/4 [==============================] - 0s 11ms/step - loss: 1.0964 - accuracy: 0.5192 - val_loss: 1.1397 - val_accuracy: 0.4821\n",
            "Epoch 39/45\n",
            "4/4 [==============================] - 0s 15ms/step - loss: 1.0925 - accuracy: 0.5131 - val_loss: 1.1368 - val_accuracy: 0.4821\n",
            "Epoch 40/45\n",
            "4/4 [==============================] - 0s 11ms/step - loss: 1.0859 - accuracy: 0.5253 - val_loss: 1.1345 - val_accuracy: 0.5000\n",
            "Epoch 41/45\n",
            "4/4 [==============================] - 0s 12ms/step - loss: 1.0798 - accuracy: 0.5333 - val_loss: 1.1289 - val_accuracy: 0.5000\n",
            "Epoch 42/45\n",
            "4/4 [==============================] - 0s 12ms/step - loss: 1.0763 - accuracy: 0.5293 - val_loss: 1.1279 - val_accuracy: 0.5000\n",
            "Epoch 43/45\n",
            "4/4 [==============================] - 0s 11ms/step - loss: 1.0696 - accuracy: 0.5333 - val_loss: 1.1225 - val_accuracy: 0.5357\n",
            "Epoch 44/45\n",
            "4/4 [==============================] - 0s 11ms/step - loss: 1.0649 - accuracy: 0.5333 - val_loss: 1.1214 - val_accuracy: 0.5179\n",
            "Epoch 45/45\n",
            "4/4 [==============================] - 0s 9ms/step - loss: 1.0610 - accuracy: 0.5354 - val_loss: 1.1147 - val_accuracy: 0.5357\n",
            "Model: \"sequential_3\"\n",
            "_________________________________________________________________\n",
            " Layer (type)                Output Shape              Param #   \n",
            "=================================================================\n",
            " Capa_de_Entrada (Dense)     (None, 14)                210       \n",
            "                                                                 \n",
            " Capa_Oculta (Dense)         (None, 7)                 105       \n",
            "                                                                 \n",
            " Capa_de_Salida (Dense)      (None, 4)                 32        \n",
            "                                                                 \n",
            "=================================================================\n",
            "Total params: 347\n",
            "Trainable params: 347\n",
            "Non-trainable params: 0\n",
            "_________________________________________________________________\n",
            "dict_keys(['loss', 'accuracy', 'val_loss', 'val_accuracy'])\n"
          ]
        },
        {
          "output_type": "display_data",
          "data": {
            "text/plain": [
              "<Figure size 432x288 with 1 Axes>"
            ],
            "image/png": "[encoded data removed]"
          },
          "metadata": {
            "needs_background": "light"
          }
        }
      ],
      "source": [
        "# Train the model\n",
        "#history = model.fit(X_train, y_train, epochs=150, verbose=1, validation_split=0.1)\n",
        "history = model.fit(X_train, y_train, \n",
        "                      epochs=45, batch_size=128, validation_split=0.1)\n",
        "model.summary()\n",
        "print(history.history.keys())\n",
        "plt.plot(history.history['loss'])\n",
        "plt.plot(history.history['val_loss'])\n",
        "plt.title('model loss')\n",
        "plt.ylabel('loss')\n",
        "plt.xlabel('epoch')\n",
        "plt.legend(['train', 'validation'], loc='upper right')\n",
        "plt.show()"
      ]
    },
    {
      "cell_type": "code",
      "execution_count": 44,
      "metadata": {
        "colab": {
          "base_uri": "https://localhost:8080/"
        },
        "id": "J3PPsapx_qsS",
        "outputId": "28e0c225-f48c-469d-8630-1967baccdd91"
      },
      "outputs": [
        {
          "output_type": "stream",
          "name": "stdout",
          "text": [
            "22/22 [==============================] - 0s 4ms/step - loss: 1.0850 - accuracy: 0.5225\n",
            "Precisión:  0.5224963426589966 \n",
            " Valores de pérdida: 1.084962010383606\n"
          ]
        }
      ],
      "source": [
        "# Evaluamos el modelo con métricas\n",
        "from sklearn import metrics\n",
        "\n",
        "loss, acc = model.evaluate(X, y_cat)\n",
        "print(\"Precisión: \",acc,\"\\n Valores de pérdida:\",loss)"
      ]
    },
    {
      "cell_type": "code",
      "execution_count": 45,
      "metadata": {
        "id": "eUQwMUwcCZCu"
      },
      "outputs": [],
      "source": [
        "predictions = model.predict(X_test)"
      ]
    },
    {
      "cell_type": "code",
      "execution_count": 46,
      "metadata": {
        "colab": {
          "base_uri": "https://localhost:8080/",
          "height": 301
        },
        "id": "PaoU3HkwDAUl",
        "outputId": "710ba93d-964c-4ef6-b8c5-9a58b09beefb"
      },
      "outputs": [
        {
          "output_type": "stream",
          "name": "stdout",
          "text": [
            "5/5 - 0s - loss: 1.1777 - accuracy: 0.4783 - 26ms/epoch - 5ms/step\n"
          ]
        },
        {
          "output_type": "display_data",
          "data": {
            "text/plain": [
              "<Figure size 432x288 with 1 Axes>"
            ],
            "image/png": "[encoded data removed]"
          },
          "metadata": {
            "needs_background": "light"
          }
        }
      ],
      "source": [
        "plt.plot(history.history['accuracy'], label='accuracy')\n",
        "plt.plot(history.history['val_accuracy'], label = 'val_accuracy')\n",
        "plt.xlabel('Epoch')\n",
        "plt.ylabel('Accuracy')\n",
        "plt.ylim([0, 1])\n",
        "plt.legend(loc='lower right')\n",
        "\n",
        "test_loss, test_acc = model.evaluate(X_test,  y_test, verbose=2)"
      ]
    },
    {
      "cell_type": "code",
      "execution_count": 47,
      "metadata": {
        "colab": {
          "base_uri": "https://localhost:8080/"
        },
        "id": "cCXCXjRGE_nI",
        "outputId": "a4852fde-1584-448d-efa0-8d10921f6610"
      },
      "outputs": [
        {
          "output_type": "stream",
          "name": "stdout",
          "text": [
            "test_acc:   47.826087474823\n",
            "test_loss:  1.1776562929153442\n"
          ]
        }
      ],
      "source": [
        "print('test_acc:  ', test_acc*100)\n",
        "print('test_loss: ', test_loss)"
      ]
    },
    {
      "cell_type": "code",
      "execution_count": 53,
      "metadata": {
        "id": "81iQwrQrG03I"
      },
      "outputs": [],
      "source": [
        "from sklearn.metrics import confusion_matrix, precision_score, f1_score, classification_report"
      ]
    },
    {
      "cell_type": "code",
      "execution_count": 49,
      "metadata": {
        "id": "YJg3gfc9I34b"
      },
      "outputs": [],
      "source": [
        "y_test_label = np.argmax(y_test,axis=1) \n",
        "y_pred_label = np.argmax(predictions,axis=1)"
      ]
    },
    {
      "cell_type": "code",
      "source": [
        "cm = confusion_matrix(y_test_label, y_pred_label)\n",
        "df_cm = pd.DataFrame(cm, index = [i for i in range(0,4)], columns = [i for i in range(0,4)])\n",
        "plt.figure(figsize = (10,7))\n",
        "sn.heatmap(df_cm, annot=True)\n",
        "plt.show()"
      ],
      "metadata": {
        "colab": {
          "base_uri": "https://localhost:8080/",
          "height": 428
        },
        "id": "0uLJzxd5L-XO",
        "outputId": "23b734ee-2dac-4444-8b50-dbadedd42c83"
      },
      "execution_count": 50,
      "outputs": [
        {
          "output_type": "display_data",
          "data": {
            "text/plain": [
              "<Figure size 720x504 with 2 Axes>"
            ],
            "image/png": "[encoded data removed]"
          },
          "metadata": {
            "needs_background": "light"
          }
        }
      ]
    },
    {
      "cell_type": "code",
      "execution_count": 51,
      "metadata": {
        "colab": {
          "base_uri": "https://localhost:8080/"
        },
        "id": "0LgSH2qRJ1sW",
        "outputId": "0af37a42-a867-46d2-da81-ca47a3495299"
      },
      "outputs": [
        {
          "output_type": "execute_result",
          "data": {
            "text/plain": [
              "0.40720463746779534"
            ]
          },
          "metadata": {},
          "execution_count": 51
        }
      ],
      "source": [
        "precision_score(y_pred_label, y_test_label, average='macro')"
      ]
    },
    {
      "cell_type": "code",
      "execution_count": 52,
      "metadata": {
        "colab": {
          "base_uri": "https://localhost:8080/"
        },
        "id": "ZswNC8IaFDXN",
        "outputId": "b6ca13c3-274d-4880-db30-18282eff8c68"
      },
      "outputs": [
        {
          "output_type": "execute_result",
          "data": {
            "text/plain": [
              "0.3995339912280702"
            ]
          },
          "metadata": {},
          "execution_count": 52
        }
      ],
      "source": [
        "f1_score(y_pred_label, y_test_label,  average='macro')"
      ]
    },
    {
      "cell_type": "code",
      "source": [
        "print(classification_report(y_test_label, y_pred_label, digits=4))"
      ],
      "metadata": {
        "colab": {
          "base_uri": "https://localhost:8080/"
        },
        "id": "BRQ-J7FC9b8o",
        "outputId": "62a35331-add3-470b-81c7-cd91c473af7f"
      },
      "execution_count": 54,
      "outputs": [
        {
          "output_type": "stream",
          "name": "stdout",
          "text": [
            "              precision    recall  f1-score   support\n",
            "\n",
            "           0     0.5526    0.8077    0.6563        52\n",
            "           1     0.3250    0.3421    0.3333        38\n",
            "           2     0.5000    0.1154    0.1875        26\n",
            "           3     0.5000    0.3636    0.4211        22\n",
            "\n",
            "    accuracy                         0.4783       138\n",
            "   macro avg     0.4694    0.4072    0.3995       138\n",
            "weighted avg     0.4716    0.4783    0.4415       138\n",
            "\n"
          ]
        }
      ]
    },
    {
      "cell_type": "code",
      "source": [
        "nn_predictions = [round(val, 0) for val in y_pred_label]"
      ],
      "metadata": {
        "id": "WJ78mO9i_iui"
      },
      "execution_count": 64,
      "outputs": []
    },
    {
      "cell_type": "code",
      "source": [
        "df_Final = pd.DataFrame({'real':y_test_label, 'predicción': nn_predictions})"
      ],
      "metadata": {
        "id": "uW8jVm01AAST"
      },
      "execution_count": 70,
      "outputs": []
    },
    {
      "cell_type": "code",
      "source": [
        "def clasear_(x):\n",
        "    return int(x+2)"
      ],
      "metadata": {
        "id": "sgzpzO6BBnEj"
      },
      "execution_count": 67,
      "outputs": []
    },
    {
      "cell_type": "code",
      "source": [
        "df_Final['real'] = df_Final['real'].apply(clasear_)\n",
        "df_Final['predicción'] = df_Final['predicción'].apply(clasear_)"
      ],
      "metadata": {
        "id": "FjrF2cfdAyiZ"
      },
      "execution_count": 71,
      "outputs": []
    },
    {
      "cell_type": "code",
      "source": [
        "df_Final"
      ],
      "metadata": {
        "colab": {
          "base_uri": "https://localhost:8080/",
          "height": 423
        },
        "id": "2DcbTjs5CevP",
        "outputId": "1559f478-b10b-4926-c218-2c14aa046fac"
      },
      "execution_count": 72,
      "outputs": [
        {
          "output_type": "execute_result",
          "data": {
            "text/plain": [
              "     real  predicción\n",
              "0       3           2\n",
              "1       4           5\n",
              "2       4           2\n",
              "3       3           5\n",
              "4       2           2\n",
              "..    ...         ...\n",
              "133     2           2\n",
              "134     2           2\n",
              "135     2           2\n",
              "136     2           2\n",
              "137     2           2\n",
              "\n",
              "[138 rows x 2 columns]"
            ],
            "text/html": [
              "\n",
              "  <div id=\"df-7002d061-e847-41fc-b642-ad5d9c197677\">\n",
              "    <div class=\"colab-df-container\">\n",
              "      <div>\n",
              "<style scoped>\n",
              "    .dataframe tbody tr th:only-of-type {\n",
              "        vertical-align: middle;\n",
              "    }\n",
              "\n",
              "    .dataframe tbody tr th {\n",
              "        vertical-align: top;\n",
              "    }\n",
              "\n",
              "    .dataframe thead th {\n",
              "        text-align: right;\n",
              "    }\n",
              "</style>\n",
              "<table border=\"1\" class=\"dataframe\">\n",
              "  <thead>\n",
              "    <tr style=\"text-align: right;\">\n",
              "      <th></th>\n",
              "      <th>real</th>\n",
              "      <th>predicción</th>\n",
              "    </tr>\n",
              "  </thead>\n",
              "  <tbody>\n",
              "    <tr>\n",
              "      <th>0</th>\n",
              "      <td>3</td>\n",
              "      <td>2</td>\n",
              "    </tr>\n",
              "    <tr>\n",
              "      <th>1</th>\n",
              "      <td>4</td>\n",
              "      <td>5</td>\n",
              "    </tr>\n",
              "    <tr>\n",
              "      <th>2</th>\n",
              "      <td>4</td>\n",
              "      <td>2</td>\n",
              "    </tr>\n",
              "    <tr>\n",
              "      <th>3</th>\n",
              "      <td>3</td>\n",
              "      <td>5</td>\n",
              "    </tr>\n",
              "    <tr>\n",
              "      <th>4</th>\n",
              "      <td>2</td>\n",
              "      <td>2</td>\n",
              "    </tr>\n",
              "    <tr>\n",
              "      <th>...</th>\n",
              "      <td>...</td>\n",
              "      <td>...</td>\n",
              "    </tr>\n",
              "    <tr>\n",
              "      <th>133</th>\n",
              "      <td>2</td>\n",
              "      <td>2</td>\n",
              "    </tr>\n",
              "    <tr>\n",
              "      <th>134</th>\n",
              "      <td>2</td>\n",
              "      <td>2</td>\n",
              "    </tr>\n",
              "    <tr>\n",
              "      <th>135</th>\n",
              "      <td>2</td>\n",
              "      <td>2</td>\n",
              "    </tr>\n",
              "    <tr>\n",
              "      <th>136</th>\n",
              "      <td>2</td>\n",
              "      <td>2</td>\n",
              "    </tr>\n",
              "    <tr>\n",
              "      <th>137</th>\n",
              "      <td>2</td>\n",
              "      <td>2</td>\n",
              "    </tr>\n",
              "  </tbody>\n",
              "</table>\n",
              "<p>138 rows × 2 columns</p>\n",
              "</div>\n",
              "      <button class=\"colab-df-convert\" onclick=\"convertToInteractive('df-7002d061-e847-41fc-b642-ad5d9c197677')\"\n",
              "              title=\"Convert this dataframe to an interactive table.\"\n",
              "              style=\"display:none;\">\n",
              "        \n",
              "  <svg xmlns=\"http://www.w3.org/2000/svg\" height=\"24px\"viewBox=\"0 0 24 24\"\n",
              "       width=\"24px\">\n",
              "    <path d=\"M0 0h24v24H0V0z\" fill=\"none\"/>\n",
              "    <path d=\"M18.56 5.44l.94 2.06.94-2.06 2.06-.94-2.06-.94-.94-2.06-.94 2.06-2.06.94zm-11 1L8.5 8.5l.94-2.06 2.06-.94-2.06-.94L8.5 2.5l-.94 2.06-2.06.94zm10 10l.94 2.06.94-2.06 2.06-.94-2.06-.94-.94-2.06-.94 2.06-2.06.94z\"/><path d=\"M17.41 7.96l-1.37-1.37c-.4-.4-.92-.59-1.43-.59-.52 0-1.04.2-1.43.59L10.3 9.45l-7.72 7.72c-.78.78-.78 2.05 0 2.83L4 21.41c.39.39.9.59 1.41.59.51 0 1.02-.2 1.41-.59l7.78-7.78 2.81-2.81c.8-.78.8-2.07 0-2.86zM5.41 20L4 18.59l7.72-7.72 1.47 1.35L5.41 20z\"/>\n",
              "  </svg>\n",
              "      </button>\n",
              "      \n",
              "  <style>\n",
              "    .colab-df-container {\n",
              "      display:flex;\n",
              "      flex-wrap:wrap;\n",
              "      gap: 12px;\n",
              "    }\n",
              "\n",
              "    .colab-df-convert {\n",
              "      background-color: #E8F0FE;\n",
              "      border: none;\n",
              "      border-radius: 50%;\n",
              "      cursor: pointer;\n",
              "      display: none;\n",
              "      fill: #1967D2;\n",
              "      height: 32px;\n",
              "      padding: 0 0 0 0;\n",
              "      width: 32px;\n",
              "    }\n",
              "\n",
              "    .colab-df-convert:hover {\n",
              "      background-color: #E2EBFA;\n",
              "      box-shadow: 0px 1px 2px rgba(60, 64, 67, 0.3), 0px 1px 3px 1px rgba(60, 64, 67, 0.15);\n",
              "      fill: #174EA6;\n",
              "    }\n",
              "\n",
              "    [theme=dark] .colab-df-convert {\n",
              "      background-color: #3B4455;\n",
              "      fill: #D2E3FC;\n",
              "    }\n",
              "\n",
              "    [theme=dark] .colab-df-convert:hover {\n",
              "      background-color: #434B5C;\n",
              "      box-shadow: 0px 1px 3px 1px rgba(0, 0, 0, 0.15);\n",
              "      filter: drop-shadow(0px 1px 2px rgba(0, 0, 0, 0.3));\n",
              "      fill: #FFFFFF;\n",
              "    }\n",
              "  </style>\n",
              "\n",
              "      <script>\n",
              "        const buttonEl =\n",
              "          document.querySelector('#df-7002d061-e847-41fc-b642-ad5d9c197677 button.colab-df-convert');\n",
              "        buttonEl.style.display =\n",
              "          google.colab.kernel.accessAllowed ? 'block' : 'none';\n",
              "\n",
              "        async function convertToInteractive(key) {\n",
              "          const element = document.querySelector('#df-7002d061-e847-41fc-b642-ad5d9c197677');\n",
              "          const dataTable =\n",
              "            await google.colab.kernel.invokeFunction('convertToInteractive',\n",
              "                                                     [key], {});\n",
              "          if (!dataTable) return;\n",
              "\n",
              "          const docLinkHtml = 'Like what you see? Visit the ' +\n",
              "            '<a target=\"_blank\" href=https://colab.research.google.com/notebooks/data_table.ipynb>data table notebook</a>'\n",
              "            + ' to learn more about interactive tables.';\n",
              "          element.innerHTML = '';\n",
              "          dataTable['output_type'] = 'display_data';\n",
              "          await google.colab.output.renderOutput(dataTable, element);\n",
              "          const docLink = document.createElement('div');\n",
              "          docLink.innerHTML = docLinkHtml;\n",
              "          element.appendChild(docLink);\n",
              "        }\n",
              "      </script>\n",
              "    </div>\n",
              "  </div>\n",
              "  "
            ]
          },
          "metadata": {},
          "execution_count": 72
        }
      ]
    }
  ],
  "metadata": {
    "colab": {
      "collapsed_sections": [],
      "name": "4_modelo_RN.ipynb",
      "provenance": [],
      "include_colab_link": true
    },
    "kernelspec": {
      "display_name": "Python 3",
      "language": "python",
      "name": "python3"
    },
    "language_info": {
      "codemirror_mode": {
        "name": "ipython",
        "version": 3
      },
      "file_extension": ".py",
      "mimetype": "text/x-python",
      "name": "python",
      "nbconvert_exporter": "python",
      "pygments_lexer": "ipython3",
      "version": "3.8.5"
    }
  },
  "nbformat": 4,
  "nbformat_minor": 0
}